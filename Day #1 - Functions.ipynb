{
 "cells": [
  {
   "cell_type": "markdown",
   "metadata": {},
   "source": [
    "## Functions"
   ]
  },
  {
   "cell_type": "code",
   "execution_count": 1,
   "metadata": {
    "collapsed": true
   },
   "outputs": [],
   "source": [
    "## Normal function\n",
    "def add(x, y):\n",
    "    return x + y"
   ]
  },
  {
   "cell_type": "code",
   "execution_count": 6,
   "metadata": {},
   "outputs": [],
   "source": [
    "# Variadic function - accepting variable arguments\n",
    "def addv(*args):\n",
    "    print args\n",
    "    return sum(args)"
   ]
  },
  {
   "cell_type": "code",
   "execution_count": 4,
   "metadata": {},
   "outputs": [
    {
     "name": "stdout",
     "output_type": "stream",
     "text": [
      "8\n",
      "(3, 5, 10, 12, 25)\n",
      "55\n"
     ]
    }
   ],
   "source": [
    "# Which is more versatile ?\n",
    "print add(3,5)\n",
    "print addv(3,5,10,12,25)"
   ]
  },
  {
   "cell_type": "code",
   "execution_count": 7,
   "metadata": {
    "collapsed": true
   },
   "outputs": [],
   "source": [
    "# Passing arguments to variadic functions\n",
    "def squares(inlist):\n",
    "    return map(lambda x: x*x, inlist)"
   ]
  },
  {
   "cell_type": "code",
   "execution_count": 8,
   "metadata": {},
   "outputs": [
    {
     "name": "stdout",
     "output_type": "stream",
     "text": [
      "[1, 4, 9, 16, 25, 36, 49, 64, 81]\n"
     ]
    }
   ],
   "source": [
    "print squares(range(1, 10))"
   ]
  },
  {
   "cell_type": "code",
   "execution_count": 15,
   "metadata": {
    "collapsed": true
   },
   "outputs": [],
   "source": [
    "def squaresv(*inlist):\n",
    "    # print inlist\n",
    "    return [x*x for x in inlist]"
   ]
  },
  {
   "cell_type": "code",
   "execution_count": 53,
   "metadata": {
    "collapsed": true
   },
   "outputs": [],
   "source": [
    "def to_int(*args):\n",
    "    return map(int, args)"
   ]
  },
  {
   "cell_type": "code",
   "execution_count": 51,
   "metadata": {
    "collapsed": true
   },
   "outputs": [],
   "source": [
    "def squaresv_s(*args):\n",
    "    args_int = to_int(*args)\n",
    "    return [x*x for x in args_int]"
   ]
  },
  {
   "cell_type": "code",
   "execution_count": 18,
   "metadata": {
    "collapsed": true
   },
   "outputs": [],
   "source": [
    "def func():\n",
    "    return range(1, 10)"
   ]
  },
  {
   "cell_type": "code",
   "execution_count": 54,
   "metadata": {},
   "outputs": [
    {
     "name": "stdout",
     "output_type": "stream",
     "text": [
      "[1, 4, 9, 16, 25, 36, 49, 64, 81]\n",
      "[1, 4, 9]\n"
     ]
    }
   ],
   "source": [
    "# Well - that is cool \n",
    "print squaresv(*func())\n",
    "print squaresv_s('1','2','3')"
   ]
  },
  {
   "cell_type": "code",
   "execution_count": 16,
   "metadata": {},
   "outputs": [
    {
     "name": "stdout",
     "output_type": "stream",
     "text": [
      "[1, 4, 9, 16, 25, 36, 49, 64, 81]\n",
      "[1, 4, 9, 16, 25, 36, 49, 64, 81]\n",
      "[1, 4, 9, 16, 25, 36, 49, 64, 81]\n"
     ]
    }
   ],
   "source": [
    "# But\n",
    "\n",
    "l = range(1, 10)\n",
    "# Indirect the list - this expands the list to variable arguments\n",
    "print squaresv(*l)\n",
    "# Or\n",
    "print squaresv(1, 2, 3, 4, 5, 6, 7, 8, 9)\n",
    "print squares(l)"
   ]
  },
  {
   "cell_type": "code",
   "execution_count": 33,
   "metadata": {
    "collapsed": true
   },
   "outputs": [],
   "source": [
    "class Employee(object):\n",
    "    def __init__(self, name, age, gender):\n",
    "        self.name = name\n",
    "        self.age = age\n",
    "        self.gender = gender\n",
    "        \n",
    "    def __repr__(self):\n",
    "        return \"Employee<name=%s, age=%s, gender=%s>\" % (self.name, self.age, self.gender)"
   ]
  },
  {
   "cell_type": "code",
   "execution_count": 22,
   "metadata": {
    "collapsed": true
   },
   "outputs": [],
   "source": [
    "def employee_factory(*args):\n",
    "    \"\"\" Small factory function for creating employee instances \"\"\"\n",
    "    for item in args:\n",
    "        name, age, sex = item\n",
    "        yield Employee(name, age, sex)"
   ]
  },
  {
   "cell_type": "code",
   "execution_count": 23,
   "metadata": {
    "collapsed": true
   },
   "outputs": [],
   "source": [
    "data = [('Anand', 40, 'M'), \n",
    "        ('Agata', 25, 'F'), \n",
    "        ('Jina', 28 ,'F'), \n",
    "        ('Sam', 23, 'M')]"
   ]
  },
  {
   "cell_type": "code",
   "execution_count": 24,
   "metadata": {},
   "outputs": [
    {
     "name": "stdout",
     "output_type": "stream",
     "text": [
      "<generator object employee_factory at 0x7f19c7efd1e0>\n"
     ]
    }
   ],
   "source": [
    "F=employee_factory(*data)\n",
    "print F"
   ]
  },
  {
   "cell_type": "code",
   "execution_count": 34,
   "metadata": {},
   "outputs": [
    {
     "name": "stdout",
     "output_type": "stream",
     "text": [
      "[Employee<name=Anand, age=40, gender=M>, Employee<name=Agata, age=25, gender=F>, Employee<name=Jina, age=28, gender=F>, Employee<name=Sam, age=23, gender=M>]\n",
      "Employee<name=Anand, age=40, gender=M>\n"
     ]
    }
   ],
   "source": [
    "for e in F:\n",
    "    print e\n",
    "    \n",
    "emps=list(employee_factory(*data))\n",
    "print emps\n",
    "print emps[0]"
   ]
  },
  {
   "cell_type": "code",
   "execution_count": 39,
   "metadata": {
    "collapsed": true
   },
   "outputs": [],
   "source": [
    "# What if we make this generic!\n",
    "class Employee(object):\n",
    "    def __init__(self, name, age, gender, **kwargs):\n",
    "        self.name = name\n",
    "        self.age = age\n",
    "        self.gender = gender\n",
    "        # Add any other attribute\n",
    "        for key, val in kwargs.items():\n",
    "            print 'Setting %s = %s' % (key, val)\n",
    "            setattr(self, key, val)\n",
    "        \n",
    "    def __repr__(self):\n",
    "        return \"Employee<name=%s, age=%s, gender=%s>\" % (self.name, self.age, self.gender)"
   ]
  },
  {
   "cell_type": "code",
   "execution_count": 36,
   "metadata": {
    "collapsed": true
   },
   "outputs": [],
   "source": [
    "def employee_factory_ex(*args, **kwargs):\n",
    "    \"\"\" Extended factory function for creating employee instances \"\"\"\n",
    "    \n",
    "    for item in args:\n",
    "        name, age, gender = item\n",
    "        yield Employee(name, age, gender, **kwargs)"
   ]
  },
  {
   "cell_type": "code",
   "execution_count": 38,
   "metadata": {
    "collapsed": true
   },
   "outputs": [],
   "source": [
    "data = [('Anand', 40, 'M'), ('Agata', 25, 'F'), ('Jina', 28 ,'F'), ('Sam', 23, 'M')]"
   ]
  },
  {
   "cell_type": "code",
   "execution_count": 40,
   "metadata": {
    "collapsed": true
   },
   "outputs": [],
   "source": [
    "F = employee_factory_ex(*data, \n",
    "                        department='Engineering', \n",
    "                        role='Programmer', \n",
    "                        manager='The Boss')"
   ]
  },
  {
   "cell_type": "code",
   "execution_count": 48,
   "metadata": {
    "collapsed": true
   },
   "outputs": [],
   "source": [
    "def f1(x, name1='value1',name2='value2'):\n",
    "    print x\n",
    "    print name1\n",
    "    print name2\n",
    "    \n",
    "def f2(x, **kwargs):\n",
    "    print x\n",
    "    print kwargs.get('name1')\n",
    "    print kwargs.get('name1')"
   ]
  },
  {
   "cell_type": "code",
   "execution_count": 46,
   "metadata": {},
   "outputs": [
    {
     "name": "stdout",
     "output_type": "stream",
     "text": [
      "10\n",
      "value1\n",
      "value2\n",
      "===\n",
      "10\n",
      "value1\n",
      "value1\n",
      "===\n",
      "10\n",
      "value1\n",
      "value1\n"
     ]
    }
   ],
   "source": [
    "f1(10)\n",
    "print '==='\n",
    "f2(10, name1='value1',name2='value2')\n",
    "print '==='\n",
    "d={'name1':'value1', 'name2': 'value2'}\n",
    "f2(10,**d)"
   ]
  },
  {
   "cell_type": "code",
   "execution_count": 41,
   "metadata": {},
   "outputs": [
    {
     "name": "stdout",
     "output_type": "stream",
     "text": [
      "Setting department = Engineering\n",
      "Setting manager = The Boss\n",
      "Setting role = Programmer\n",
      "Employee<name=Anand, age=40, gender=M>\n",
      "Setting department = Engineering\n",
      "Setting manager = The Boss\n",
      "Setting role = Programmer\n",
      "Employee<name=Agata, age=25, gender=F>\n",
      "Setting department = Engineering\n",
      "Setting manager = The Boss\n",
      "Setting role = Programmer\n",
      "Employee<name=Jina, age=28, gender=F>\n",
      "Setting department = Engineering\n",
      "Setting manager = The Boss\n",
      "Setting role = Programmer\n",
      "Employee<name=Sam, age=23, gender=M>\n"
     ]
    }
   ],
   "source": [
    "for f in F:\n",
    "    print f"
   ]
  },
  {
   "cell_type": "markdown",
   "metadata": {},
   "source": [
    "## Closures"
   ]
  },
  {
   "cell_type": "code",
   "execution_count": 56,
   "metadata": {},
   "outputs": [
    {
     "data": {
      "text/plain": [
       "<function __main__.f1>"
      ]
     },
     "execution_count": 56,
     "metadata": {},
     "output_type": "execute_result"
    }
   ],
   "source": [
    "f1"
   ]
  },
  {
   "cell_type": "code",
   "execution_count": 84,
   "metadata": {
    "collapsed": true
   },
   "outputs": [],
   "source": [
    "\n",
    "    \n",
    "def employee_factory_with_cache(*args, **kwargs):\n",
    "    \"\"\" Extended factory function for creating employee \n",
    "    instances with caching\"\"\"\n",
    "    \n",
    "    cache = {}\n",
    "    \n",
    "    def inner():        \n",
    "        for item in args:\n",
    "            name, age, gender = item\n",
    "            key = item\n",
    "            if key in cache:\n",
    "                print '=>from cache<='\n",
    "                yield cache[key]\n",
    "           \n",
    "            e = Employee(name, age, gender, **kwargs)\n",
    "            # Cache it\n",
    "            cache[key] = e\n",
    "            yield e\n",
    "        \n",
    "    return inner"
   ]
  },
  {
   "cell_type": "code",
   "execution_count": 43,
   "metadata": {
    "collapsed": true
   },
   "outputs": [],
   "source": [
    "data = [('Anand', 40, 'M'), ('Agata', 25, 'F'), \n",
    "        ('Jina', 28 ,'F'), ('Sam', 23, 'M')]"
   ]
  },
  {
   "cell_type": "code",
   "execution_count": 85,
   "metadata": {
    "collapsed": true
   },
   "outputs": [],
   "source": [
    "F = employee_factory_with_cache(*data, \n",
    "                                department='Research', \n",
    "                                role='Researchers', \n",
    "                                manager='The Boss')"
   ]
  },
  {
   "cell_type": "code",
   "execution_count": 72,
   "metadata": {},
   "outputs": [
    {
     "name": "stdout",
     "output_type": "stream",
     "text": [
      "=>from cache<=\n",
      "Employee<name=Anand, age=40, gender=M>\n",
      "Setting department = Research\n",
      "Setting manager = The Boss\n",
      "Setting role = Researchers\n",
      "Employee<name=Anand, age=40, gender=M>\n",
      "=>from cache<=\n",
      "Employee<name=Rajesh, age=35, gender=M>\n",
      "Setting department = Research\n",
      "Setting manager = The Boss\n",
      "Setting role = Researchers\n",
      "Employee<name=Rajesh, age=35, gender=M>\n"
     ]
    }
   ],
   "source": [
    "for e in F():\n",
    "    print e"
   ]
  },
  {
   "cell_type": "code",
   "execution_count": 73,
   "metadata": {
    "collapsed": true
   },
   "outputs": [],
   "source": [
    "data = [('Anand', 40, 'M'), ('Rajesh', 35, 'M')]\n",
    "F = employee_factory_with_cache(*data, department='Research', \n",
    "                                role='Researchers', \n",
    "                                manager='The Boss')"
   ]
  },
  {
   "cell_type": "code",
   "execution_count": 74,
   "metadata": {},
   "outputs": [
    {
     "name": "stdout",
     "output_type": "stream",
     "text": [
      "=>from cache<=\n",
      "Employee<name=Anand, age=40, gender=M>\n",
      "Setting department = Research\n",
      "Setting manager = The Boss\n",
      "Setting role = Researchers\n",
      "Employee<name=Anand, age=40, gender=M>\n",
      "=>from cache<=\n",
      "Employee<name=Rajesh, age=35, gender=M>\n",
      "Setting department = Research\n",
      "Setting manager = The Boss\n",
      "Setting role = Researchers\n",
      "Employee<name=Rajesh, age=35, gender=M>\n"
     ]
    }
   ],
   "source": [
    "for e in F():\n",
    "    print e"
   ]
  },
  {
   "cell_type": "code",
   "execution_count": 57,
   "metadata": {},
   "outputs": [
    {
     "data": {
      "text/plain": [
       "['__call__',\n",
       " '__class__',\n",
       " '__closure__',\n",
       " '__code__',\n",
       " '__defaults__',\n",
       " '__delattr__',\n",
       " '__dict__',\n",
       " '__doc__',\n",
       " '__format__',\n",
       " '__get__',\n",
       " '__getattribute__',\n",
       " '__globals__',\n",
       " '__hash__',\n",
       " '__init__',\n",
       " '__module__',\n",
       " '__name__',\n",
       " '__new__',\n",
       " '__reduce__',\n",
       " '__reduce_ex__',\n",
       " '__repr__',\n",
       " '__setattr__',\n",
       " '__sizeof__',\n",
       " '__str__',\n",
       " '__subclasshook__',\n",
       " 'func_closure',\n",
       " 'func_code',\n",
       " 'func_defaults',\n",
       " 'func_dict',\n",
       " 'func_doc',\n",
       " 'func_globals',\n",
       " 'func_name']"
      ]
     },
     "execution_count": 57,
     "metadata": {},
     "output_type": "execute_result"
    }
   ],
   "source": [
    "# Introspecting F\n",
    "dir(F)"
   ]
  },
  {
   "cell_type": "code",
   "execution_count": 81,
   "metadata": {},
   "outputs": [
    {
     "name": "stdout",
     "output_type": "stream",
     "text": [
      "(<cell at 0x7f19c0bf5478: tuple object at 0x7f19ca4ef368>, <cell at 0x7f19c0bf5520: dict object at 0x7f19c0bebb40>)\n"
     ]
    }
   ],
   "source": [
    "print F.__closure__\n",
    "# print F.func_closure"
   ]
  },
  {
   "cell_type": "code",
   "execution_count": 86,
   "metadata": {},
   "outputs": [
    {
     "name": "stdout",
     "output_type": "stream",
     "text": [
      "<cell at 0x7f19c0bf5be8: tuple object at 0x7f19c7e63758>\n",
      "['__class__', '__cmp__', '__delattr__', '__doc__', '__format__', '__getattribute__', '__hash__', '__init__', '__new__', '__reduce__', '__reduce_ex__', '__repr__', '__setattr__', '__sizeof__', '__str__', '__subclasshook__', 'cell_contents']\n",
      "(('Anand', 40, 'M'), ('Rajesh', 35, 'M'))\n",
      "<type 'cell'>\n"
     ]
    }
   ],
   "source": [
    "print F.func_closure[0]\n",
    "cell = F.func_closure[0]\n",
    "print dir(cell)\n",
    "\n",
    "print cell.cell_contents\n",
    "print type(cell)"
   ]
  },
  {
   "cell_type": "code",
   "execution_count": 87,
   "metadata": {},
   "outputs": [
    {
     "name": "stdout",
     "output_type": "stream",
     "text": [
      "('args', 'cache', 'kwargs')\n"
     ]
    }
   ],
   "source": [
    "F.func_code\n",
    "# print dir(F.func_code)\n",
    "print F.func_code.co_freevars"
   ]
  },
  {
   "cell_type": "code",
   "execution_count": 88,
   "metadata": {},
   "outputs": [
    {
     "name": "stdout",
     "output_type": "stream",
     "text": [
      "Closure => None\n",
      "Func closure => None\n",
      "Free vars=> ()\n"
     ]
    }
   ],
   "source": [
    "# print dir(f1)\n",
    "print 'Closure =>',f1.__closure__\n",
    "print 'Func closure =>',f1.func_closure\n",
    "print 'Free vars=>',f1.func_code.co_freevars"
   ]
  },
  {
   "cell_type": "markdown",
   "metadata": {},
   "source": [
    "## Functional Programming"
   ]
  },
  {
   "cell_type": "markdown",
   "metadata": {},
   "source": [
    "1. Functions are first-class objects in Python.\n",
    "2. Functional programming is a style of coding where functions are passed to other functions\n",
    "and functions are also returned from other functions.\n",
    "3. The example we saw earlier (closure) is an example of functional programming.\n",
    "4. Traditional functional programming in Python uses one of map, filter or reduce functions."
   ]
  },
  {
   "cell_type": "code",
   "execution_count": 9,
   "metadata": {},
   "outputs": [
    {
     "name": "stdout",
     "output_type": "stream",
     "text": [
      "[0, 1, 4, 9, 16, 25, 36, 49, 64, 81]\n",
      "[0, 1, 4, 9, 16, 25, 36, 49, 64, 81]\n",
      "[0, 1, 4, 9, 16, 25, 36, 49, 64, 81]\n",
      "<itertools.imap object at 0x7ff7054cddd0>\n"
     ]
    }
   ],
   "source": [
    "import itertools\n",
    "\n",
    "def square(x):\n",
    "    return x*x\n",
    "\n",
    "print map(square, range(10))\n",
    "\n",
    "print map(lambda x:x*x, range(10))\n",
    "print map(lambda x: x*x, itertools.islice(range(100), 10))\n",
    "print itertools.imap(lambda x: x*x, itertools.islice(range(100), 10))"
   ]
  },
  {
   "cell_type": "code",
   "execution_count": 104,
   "metadata": {},
   "outputs": [
    {
     "name": "stdout",
     "output_type": "stream",
     "text": [
      "[1, 3, 5, 7, 9]\n",
      "('0', ' ', 1, 2, 'Python')\n",
      "{2: 2, 4: 'Good', 6: 10}\n"
     ]
    }
   ],
   "source": [
    "print filter(lambda x: x%2, range(10))\n",
    "print filter(None, ('', None, False, [],{}, 0, '0', (), ' ', 1, 2,\n",
    "                    'Python'))\n",
    "\n",
    "d = {1: False, 2: 2, 6: 10, 3: None, 4: 'Good', 5:''}\n",
    "print dict(filter(lambda x: x[1], d.iteritems()))\n"
   ]
  },
  {
   "cell_type": "code",
   "execution_count": 107,
   "metadata": {},
   "outputs": [
    {
     "name": "stdout",
     "output_type": "stream",
     "text": [
      "[4, 100]\n"
     ]
    }
   ],
   "source": [
    "print map(lambda x: x*x, filter(lambda x: type(x) == int,\n",
    "                                d.values()))"
   ]
  },
  {
   "cell_type": "code",
   "execution_count": 121,
   "metadata": {},
   "outputs": [
    {
     "name": "stdout",
     "output_type": "stream",
     "text": [
      "120\n",
      "362880\n",
      "[True, True]\n"
     ]
    }
   ],
   "source": [
    "def factorial(n):\n",
    "    return reduce(lambda x,y: x*y, range(1, n+1))\n",
    "\n",
    "print factorial(5)\n",
    "\n",
    "import operator\n",
    "\n",
    "# print dir(operator)\n",
    "print reduce(operator.mul, range(1, 10))\n",
    "print map(operator.isCallable, (square, F))"
   ]
  },
  {
   "cell_type": "code",
   "execution_count": 4,
   "metadata": {},
   "outputs": [
    {
     "name": "stdout",
     "output_type": "stream",
     "text": [
      "608281864034267560872252163321295376887552831379210240000000000\n",
      "time taken 0.00148892402649\n",
      "608281864034267560872252163321295376887552831379210240000000000\n",
      "time taken 0.000582933425903\n"
     ]
    }
   ],
   "source": [
    "import functools, operator\n",
    "\n",
    "import time\n",
    "t1 = time.time()\n",
    "print functools.reduce(operator.mul, range(1, 50))\n",
    "t2 = time.time()\n",
    "print 'time taken',t2-t1\n",
    "t1 = time.time()\n",
    "print reduce(operator.mul, range(1, 50))\n",
    "t2 = time.time()\n",
    "print 'time taken',t2-t1"
   ]
  },
  {
   "cell_type": "code",
   "execution_count": 125,
   "metadata": {
    "collapsed": true
   },
   "outputs": [],
   "source": [
    "from functools import partial\n",
    "\n",
    "grep = lambda pattern, line: pattern in line.split()\n",
    "            \n",
    "grep_I = partial(grep, 'I')"
   ]
  },
  {
   "cell_type": "code",
   "execution_count": 91,
   "metadata": {
    "collapsed": true
   },
   "outputs": [],
   "source": [
    "import os\n",
    "\n",
    "def follow(folder):\n",
    "    for item in os.listdir(folder):\n",
    "        filename = os.path.join(folder, item)\n",
    "        for line in open(filename):\n",
    "            yield line"
   ]
  },
  {
   "cell_type": "code",
   "execution_count": 127,
   "metadata": {},
   "outputs": [
    {
     "name": "stdout",
     "output_type": "stream",
     "text": [
      "I was wondering at the beauty of nature.\n",
      "\n",
      "I had Python training.\n",
      "\n",
      "The instructor was good, but I found it difficult to focus.\n",
      "\n",
      "Till this example came, and then I was all awake.\n",
      "\n",
      "I thought of my younger days when I used to love to play in them.\n",
      "\n",
      "Now a days, I dont allow my kids to do the same.\n",
      "\n"
     ]
    }
   ],
   "source": [
    "lines = follow('./test')\n",
    "# print map(grep_I, lines)\n",
    "\n",
    "for item in filter(grep_I, lines):\n",
    "    print item"
   ]
  },
  {
   "cell_type": "code",
   "execution_count": 130,
   "metadata": {
    "collapsed": true
   },
   "outputs": [],
   "source": [
    "## Doing same with map\n",
    "\n",
    "grep = lambda pattern, line: pattern in line.split() and line\n",
    "grep_I = partial(grep, 'I')"
   ]
  },
  {
   "cell_type": "code",
   "execution_count": 132,
   "metadata": {},
   "outputs": [
    {
     "name": "stdout",
     "output_type": "stream",
     "text": [
      "I was wondering at the beauty of nature.\n",
      "\n",
      "I had Python training.\n",
      "\n",
      "The instructor was good, but I found it difficult to focus.\n",
      "\n",
      "Till this example came, and then I was all awake.\n",
      "\n",
      "I thought of my younger days when I used to love to play in them.\n",
      "\n",
      "Now a days, I dont allow my kids to do the same.\n",
      "\n"
     ]
    }
   ],
   "source": [
    "lines = follow('./test')\n",
    "# print map(grep_I, lines)\n",
    "\n",
    "# Functional chaining\n",
    "for item in filter(None, map(grep_I, lines)):\n",
    "    print item"
   ]
  },
  {
   "cell_type": "markdown",
   "metadata": {},
   "source": [
    "### Functional chaining"
   ]
  },
  {
   "cell_type": "code",
   "execution_count": 6,
   "metadata": {},
   "outputs": [
    {
     "name": "stdout",
     "output_type": "stream",
     "text": [
      "['Wonder', 'Car', 'Pages']\n",
      "['Flower', 'Truck', 'Book']\n"
     ]
    }
   ],
   "source": [
    "# Find all words which start in capital letters\n",
    "import string\n",
    "words = ['Wonder', 'flower', 'truck', 'Car', 'book', 'Pages']\n",
    "\n",
    "print filter(lambda x: x[0] in string.ascii_uppercase, words)\n",
    "\n",
    "# Go a step further and capitalize smaller words\n",
    "print map(string.capitalize, filter(lambda x: x[0] in string.ascii_lowercase, \n",
    "                                    words))"
   ]
  },
  {
   "cell_type": "markdown",
   "metadata": {},
   "source": [
    "1. Don't do functional chaining > 2 levels\n",
    "2. Don't do complex lambdas which perform lot of inline calculations."
   ]
  },
  {
   "cell_type": "markdown",
   "metadata": {},
   "source": [
    "### With statement and context managers"
   ]
  },
  {
   "cell_type": "code",
   "execution_count": 32,
   "metadata": {},
   "outputs": [
    {
     "name": "stdout",
     "output_type": "stream",
     "text": [
      "hi\n",
      "Time taken=> 470.161437988 usec\n",
      "Time taken=> 25.9876251221 usec\n"
     ]
    }
   ],
   "source": [
    "import operator\n",
    "import time\n",
    "from contextlib import contextmanager\n",
    "\n",
    "def test(n):\n",
    "    return reduce(operator.mul, range(1,n+1))\n",
    "\n",
    "@contextmanager\n",
    "def timer():\n",
    "    t1 = time.time()\n",
    "    yield\n",
    "    t2 = time.time()\n",
    "    print 'Time taken=>',1000000*(t2-t1),'usec'\n",
    "    \n",
    "with timer():\n",
    "    test(10)\n",
    "    print 'hi'\n",
    "    \n",
    "with timer():\n",
    "    test(50)"
   ]
  },
  {
   "cell_type": "code",
   "execution_count": 38,
   "metadata": {},
   "outputs": [
    {
     "name": "stdout",
     "output_type": "stream",
     "text": [
      "     Hello there\n",
      "         how are you\n",
      "         I am good\n",
      "     I am fine, bye.\n"
     ]
    }
   ],
   "source": [
    "ind = 0\n",
    "@contextmanager\n",
    "def indent():\n",
    "    global ind\n",
    "    ind += 4\n",
    "    yield\n",
    "    ind -= 4\n",
    "    \n",
    "def prefix():\n",
    "    print ind*' ',\n",
    "    \n",
    "with indent():\n",
    "    prefix(); print 'Hello there'\n",
    "    with indent():\n",
    "        prefix(); print \"how are you\"\n",
    "    with indent():\n",
    "        prefix();print \"I am good\"\n",
    "with indent():\n",
    "    prefix();print \"I am fine, bye.\""
   ]
  },
  {
   "cell_type": "code",
   "execution_count": 31,
   "metadata": {},
   "outputs": [
    {
     "name": "stdout",
     "output_type": "stream",
     "text": [
      "[10, 20]\n"
     ]
    }
   ],
   "source": [
    "import threading\n",
    "\n",
    "l = threading.Lock()\n",
    "items = []\n",
    "\n",
    "def t(x):\n",
    "    with l:\n",
    "        items.append(x)\n",
    "        \n",
    "t1 = threading.Thread(target=t, args=(10,))\n",
    "t2 = threading.Thread(target=t, args=(20,))\n",
    "\n",
    "t1.start();t2.start()\n",
    "t1.join();t2.join()\n",
    "\n",
    "print items"
   ]
  },
  {
   "cell_type": "code",
   "execution_count": null,
   "metadata": {
    "collapsed": true
   },
   "outputs": [],
   "source": [
    "\n"
   ]
  }
 ],
 "metadata": {
  "kernelspec": {
   "display_name": "Python 2",
   "language": "python",
   "name": "python2"
  },
  "language_info": {
   "codemirror_mode": {
    "name": "ipython",
    "version": 2
   },
   "file_extension": ".py",
   "mimetype": "text/x-python",
   "name": "python",
   "nbconvert_exporter": "python",
   "pygments_lexer": "ipython2",
   "version": "2.7.12"
  }
 },
 "nbformat": 4,
 "nbformat_minor": 2
}
