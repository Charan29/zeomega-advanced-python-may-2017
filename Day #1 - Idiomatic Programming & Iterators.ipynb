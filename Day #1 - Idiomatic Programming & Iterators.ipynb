{
 "cells": [
  {
   "cell_type": "markdown",
   "metadata": {},
   "source": [
    "## Idiomatic Programming\n",
    "\n",
    "1. Programming Python using the *Pythonic* style - i.e the usage of expressions and constructs that are ideal in Python.\n",
    "2. Programming in a way that is following the Zen of Python."
   ]
  },
  {
   "cell_type": "code",
   "execution_count": 1,
   "metadata": {},
   "outputs": [
    {
     "name": "stdout",
     "output_type": "stream",
     "text": [
      "The Zen of Python, by Tim Peters\n",
      "\n",
      "Beautiful is better than ugly.\n",
      "Explicit is better than implicit.\n",
      "Simple is better than complex.\n",
      "Complex is better than complicated.\n",
      "Flat is better than nested.\n",
      "Sparse is better than dense.\n",
      "Readability counts.\n",
      "Special cases aren't special enough to break the rules.\n",
      "Although practicality beats purity.\n",
      "Errors should never pass silently.\n",
      "Unless explicitly silenced.\n",
      "In the face of ambiguity, refuse the temptation to guess.\n",
      "There should be one-- and preferably only one --obvious way to do it.\n",
      "Although that way may not be obvious at first unless you're Dutch.\n",
      "Now is better than never.\n",
      "Although never is often better than *right* now.\n",
      "If the implementation is hard to explain, it's a bad idea.\n",
      "If the implementation is easy to explain, it may be a good idea.\n",
      "Namespaces are one honking great idea -- let's do more of those!\n"
     ]
    }
   ],
   "source": [
    "## Zen of Python\n",
    "import this"
   ]
  },
  {
   "cell_type": "code",
   "execution_count": 7,
   "metadata": {},
   "outputs": [
    {
     "name": "stdout",
     "output_type": "stream",
     "text": [
      "Not Pythonic\n",
      "37\n",
      "8\n",
      "60\n",
      "95\n",
      "19\n",
      "\n",
      "Pythonic\n",
      "37\n",
      "8\n",
      "60\n",
      "95\n",
      "19\n"
     ]
    }
   ],
   "source": [
    "## Beautiful is better than Ugly - Example\n",
    "import random\n",
    "\n",
    "# Random 5 numbers in range(1, 100)\n",
    "nums = random.sample(range(100), 5)\n",
    "\n",
    "# Ugly - Not Pythonic\n",
    "print 'Not Pythonic'\n",
    "for i in range(len(nums)):\n",
    "    print nums[i]\n",
    "    \n",
    "# Beautiful - Pythonic\n",
    "print '\\nPythonic'\n",
    "for i in nums:\n",
    "    print i"
   ]
  },
  {
   "cell_type": "code",
   "execution_count": 8,
   "metadata": {},
   "outputs": [
    {
     "name": "stdout",
     "output_type": "stream",
     "text": [
      "UnPythonic\n",
      "0 => 37\n",
      "1 => 8\n",
      "2 => 60\n",
      "3 => 95\n",
      "4 => 19\n",
      "\n",
      "Pythonic\n",
      "0 => 37\n",
      "1 => 8\n",
      "2 => 60\n",
      "3 => 95\n",
      "4 => 19\n"
     ]
    }
   ],
   "source": [
    "### Printing a number along with its index\n",
    "print 'UnPythonic'\n",
    "\n",
    "for i in range(len(nums)):\n",
    "    print i,'=>', nums[i]\n",
    "    \n",
    "print '\\nPythonic'\n",
    "\n",
    "for i,num in enumerate(nums):\n",
    "    print i,'=>', num"
   ]
  },
  {
   "cell_type": "code",
   "execution_count": 10,
   "metadata": {},
   "outputs": [
    {
     "name": "stdout",
     "output_type": "stream",
     "text": [
      "bananas\n",
      "mangos\n",
      "grapes\n",
      "oranges\n",
      "\n",
      "bananas\n",
      "mangos\n",
      "grapes\n",
      "oranges\n"
     ]
    }
   ],
   "source": [
    "## Other examples\n",
    "\n",
    "# Iterating an element in reversed\n",
    "fruits = ['oranges', 'grapes', 'mangos', 'bananas']\n",
    "\n",
    "# Ugly\n",
    "for fruit in fruits[-1::-1]:\n",
    "    print fruit\n",
    "    \n",
    "# Better\n",
    "print \n",
    "\n",
    "for fruit in reversed(fruits):\n",
    "    print fruit\n"
   ]
  },
  {
   "cell_type": "code",
   "execution_count": 11,
   "metadata": {},
   "outputs": [
    {
     "name": "stdout",
     "output_type": "stream",
     "text": [
      "Complicated\n",
      "[('Kabul', 5), ('Delhi', 5), ('Bangalore', 9), ('New Delhi', 9), ('Colombo', 7), ('Chennai', 7), ('Chandigarh', 10)]\n",
      "\tSorted=> ['Bangalore', 'Chandigarh', 'Chennai', 'Colombo', 'Delhi', 'Kabul', 'New Delhi']\n",
      "Complex\n",
      "\tSorted=> ['Delhi', 'Kabul', 'Chennai', 'Colombo', 'Bangalore', 'New Delhi', 'Chandigarh']\n"
     ]
    }
   ],
   "source": [
    "# Complex is better than complicated!\n",
    "\n",
    "# When sorting, use sorted instead of sort\n",
    "\n",
    "# E.g: Sorting using length\n",
    "\n",
    "# Complicated!\n",
    "print 'Complicated'\n",
    "cities = ['Kabul', 'Delhi', 'Bangalore', 'New Delhi', 'Colombo', \n",
    "          'Chennai', 'Chandigarh']\n",
    "cities_len = [(x, len(x)) for x in cities]\n",
    "print cities_len\n",
    "\n",
    "cities_len.sort()\n",
    "# Now get back cities!\n",
    "cities_sorted = [item[0] for item in cities_len]\n",
    "print '\\tSorted=>',cities_sorted\n",
    "\n",
    "print 'Complex'\n",
    "\n",
    "import operator\n",
    "cities_sorted = [item[0] for item in sorted(cities_len, key=operator.itemgetter(1))]\n",
    "print '\\tSorted=>',cities_sorted\n"
   ]
  },
  {
   "cell_type": "code",
   "execution_count": 10,
   "metadata": {},
   "outputs": [
    {
     "name": "stdout",
     "output_type": "stream",
     "text": [
      "[('Delhi', 5), ('Kabul', 5), ('Chennai', 7), ('Colombo', 7), ('Bangalore', 9), ('New Delhi', 9), ('Chandigarh', 10)]\n"
     ]
    }
   ],
   "source": [
    "import operator\n",
    "\n",
    "# help(operator.itemgetter)\n",
    "print sorted(cities_len, key=operator.itemgetter(1))\n",
    "\n"
   ]
  },
  {
   "cell_type": "code",
   "execution_count": 54,
   "metadata": {},
   "outputs": [
    {
     "name": "stdout",
     "output_type": "stream",
     "text": [
      "<operator.attrgetter object at 0x7fbbf46b7210>\n",
      "[C<>, {'key2': 2, 'key1': 1}, {'key3': 3, 'key2': 2, 'key1': 1}]\n"
     ]
    }
   ],
   "source": [
    "class C(object):\n",
    "    def __repr__f):\n",
    "        if hasattr(self, 'key'):\n",
    "            return str(self.key)\n",
    "        return 'C<>'\n",
    "    pass\n",
    "\n",
    "c_list = [C(), C(), C()]\n",
    "\n",
    "for item in c_list:\n",
    "    item.x = 100\n",
    "    \n",
    "js=[{\"key\": {\"key1\": 1,\"key2\": 2}}, \n",
    "    {\"key\": {\"key1\": 1, \"key2\": 2, \"key3\": 3}},\n",
    "    {}]\n",
    "# print js\n",
    "\n",
    "for i,item in enumerate(js):\n",
    "    if \"key\" in item:\n",
    "        c_list[i].key = item[\"key\"]\n",
    "        # setattr(c_list[i], \"key\", item[\"key\"]) \n",
    "\n",
    "# help(operator.attrgetter)\n",
    "\n",
    "def get_key(c):\n",
    "    try:\n",
    "        return getattr(c, 'key')\n",
    "    except AttributeError:\n",
    "        return 0\n",
    "    \n",
    "print f\n",
    "# f(c_list[0])\n",
    "\n",
    "# print c_list[2].key\n",
    "# print sorted(js, key=lambda x: len(x.get(\"key\", {})))\n",
    "print sorted(c_list, key=get_key)\n"
   ]
  },
  {
   "cell_type": "code",
   "execution_count": 1,
   "metadata": {},
   "outputs": [
    {
     "name": "stdout",
     "output_type": "stream",
     "text": [
      "Help on built-in function sorted in module __builtin__:\n",
      "\n",
      "sorted(...)\n",
      "    sorted(iterable, cmp=None, key=None, reverse=False) --> new sorted list\n",
      "\n"
     ]
    }
   ],
   "source": [
    "help(sorted)"
   ]
  },
  {
   "cell_type": "code",
   "execution_count": 12,
   "metadata": {},
   "outputs": [
    {
     "name": "stdout",
     "output_type": "stream",
     "text": [
      "Sorted=> ['Kabul', 'Delhi', 'Colombo', 'Chennai', 'Bangalore', 'New Delhi', 'Chandigarh']\n"
     ]
    }
   ],
   "source": [
    "# But...\n",
    "# Simple is better than complex!\n",
    "\n",
    "print 'Sorted=>', sorted(cities, key=len)"
   ]
  },
  {
   "cell_type": "markdown",
   "metadata": {},
   "source": [
    "## Iterators"
   ]
  },
  {
   "cell_type": "markdown",
   "metadata": {},
   "source": [
    "1. Anything on which you can use the for loop. \n",
    "2. Provides the ________iter________ magic method callable via the *iter* function.\n",
    "3. In Python all sequences (list, set, tuple, string) are iterators."
   ]
  },
  {
   "cell_type": "code",
   "execution_count": 20,
   "metadata": {},
   "outputs": [
    {
     "name": "stdout",
     "output_type": "stream",
     "text": [
      "<listiterator object at 0x7f5abc2b2110>\n",
      "0\n",
      "1\n",
      "2\n",
      "3\n",
      "4\n",
      "<iterator object at 0x7f5ac3ba3f50>\n",
      "<tupleiterator object at 0x7f5ac509fbd0>\n",
      "<setiterator object at 0x7f5ac161f140>\n"
     ]
    }
   ],
   "source": [
    "## Supporting the __iter__ magic method, callable via the iter function\n",
    "\n",
    "# All container objects create custom iterators internally.\n",
    "l = range(5)\n",
    "Il = iter(l)\n",
    "print Il\n",
    "\n",
    "for i in Il:\n",
    "    print i\n",
    "    \n",
    "s = 'Python'\n",
    "Is = iter(s)\n",
    "print S\n",
    "\n",
    "t = tuple(l)\n",
    "It = iter(t)\n",
    "print It\n",
    "\n",
    "S = set(l)\n",
    "IS = iter(S)\n",
    "print IS"
   ]
  },
  {
   "cell_type": "markdown",
   "metadata": {},
   "source": [
    "## Custom iterators\n",
    "\n",
    "## Lets create a fibonacci iterator class.\n"
   ]
  },
  {
   "cell_type": "code",
   "execution_count": 62,
   "metadata": {
    "collapsed": true
   },
   "outputs": [],
   "source": [
    "class Fibonacci(object):\n",
    "    \"\"\" A fibonacci iterator class \"\"\"\n",
    "    \n",
    "    def __init__(self):\n",
    "        self.a = 0\n",
    "        self.b = 1\n",
    "        \n",
    "    def __iter__(self):\n",
    "        return self\n",
    "    \n",
    "    def next(self):\n",
    "        # print '=>I am here<=',self.a\n",
    "        c = self.a + self.b\n",
    "        self.a, self.b = self.b, c\n",
    "        return c\n",
    "\n",
    "class FibonacciR(object):\n",
    "    \"\"\" A fibonacci iterator class supports reversing \"\"\"\n",
    "    \n",
    "    def __init__(self):         \n",
    "        self.a = 0\n",
    "        self.b = 1\n",
    "        # Keeping a list of numbers so far\n",
    "        self._nums = []\n",
    "        \n",
    "    def __iter__(self):\n",
    "        return self\n",
    "    \n",
    "    def next(self):\n",
    "        # print '=>I am here<=',self.a\n",
    "        c = self.a + self.b\n",
    "        self.a, self.b = self.b, c\n",
    "        self._nums.append(c)\n",
    "        return c\n",
    "    \n",
    "    def __reversed__(self):\n",
    "        return reversed(self._nums)\n"
   ]
  },
  {
   "cell_type": "code",
   "execution_count": 64,
   "metadata": {},
   "outputs": [
    {
     "name": "stdout",
     "output_type": "stream",
     "text": [
      "<__main__.Fibonacci object at 0x7fbbf469c690>\n",
      "1\n",
      "2\n",
      "3\n",
      "5\n",
      "8\n",
      "13\n",
      "21\n",
      "34\n",
      "55\n",
      "89\n",
      "<__main__.FibonacciR object at 0x7fbbf4697850>\n",
      "1\n",
      "2\n",
      "3\n",
      "5\n",
      "8\n",
      "13\n",
      "21\n",
      "34\n",
      "55\n",
      "89\n",
      "[144, 89, 55, 34, 21, 13, 8, 5, 3, 2, 1]\n"
     ]
    }
   ],
   "source": [
    "f = Fibonacci()\n",
    "print iter(f)\n",
    "# Problem - its an infinite iterator, so we need external conditions to break!\n",
    "for idx,n in enumerate(f):\n",
    "    if idx == 10: break\n",
    "    print n\n",
    "    \n",
    "# Reverse fibonacci\n",
    "rf = FibonacciR()\n",
    "print iter(rf)\n",
    "# Problem - its an infinite iterator, so we need external conditions to break!\n",
    "for idx,n in enumerate(rf):\n",
    "    if idx == 10: break\n",
    "    print n\n",
    "    \n",
    "print list(reversed(rf))"
   ]
  },
  {
   "cell_type": "code",
   "execution_count": 65,
   "metadata": {
    "collapsed": true
   },
   "outputs": [],
   "source": [
    "### Variation - Fibonacci returning fixed count of numbers\n",
    "class Fibonacci(object):\n",
    "    \"\"\" A fibonacci iterator class with inbuilt limit \"\"\"\n",
    "    \n",
    "    def __init__(self, num=10):\n",
    "        self.a = 0\n",
    "        self.b = 1\n",
    "        self.idx = 0\n",
    "        self.num = num\n",
    "        \n",
    "    def __iter__(self):\n",
    "        return self\n",
    "    \n",
    "    def next(self):\n",
    "        if self.idx < self.num:\n",
    "            c = self.a + self.b\n",
    "            self.a, self.b = self.b, c\n",
    "            self.idx += 1\n",
    "            return c\n",
    "        else:\n",
    "            raise StopIteration"
   ]
  },
  {
   "cell_type": "code",
   "execution_count": 67,
   "metadata": {},
   "outputs": [
    {
     "name": "stdout",
     "output_type": "stream",
     "text": [
      "1\n",
      "2\n",
      "3\n",
      "5\n",
      "8\n",
      "13\n",
      "21\n",
      "34\n",
      "55\n",
      "89\n",
      "1 2 3 5 8 13 21 34 55 89 144 233 377 610 987 1597 2584 4181 6765 10946 17711 28657 46368 75025 121393 196418 317811 514229 832040 1346269 2178309 3524578 5702887 9227465 14930352 24157817 39088169 63245986 102334155 165580141 267914296 433494437 701408733 1134903170 1836311903 2971215073 4807526976 7778742049 12586269025 20365011074 32951280099 53316291173 86267571272 139583862445 225851433717 365435296162 591286729879 956722026041 1548008755920 2504730781961 4052739537881 6557470319842 10610209857723 17167680177565 27777890035288 44945570212853 72723460248141 117669030460994 190392490709135 308061521170129 498454011879264 806515533049393 1304969544928657 2111485077978050 3416454622906707 5527939700884757 8944394323791464 14472334024676221 23416728348467685 37889062373143906 61305790721611591 99194853094755497 160500643816367088 259695496911122585 420196140727489673 679891637638612258 1100087778366101931 1779979416004714189 2880067194370816120 4660046610375530309 7540113804746346429 12200160415121876738 19740274219868223167 31940434634990099905 51680708854858323072 83621143489848422977 135301852344706746049 218922995834555169026 354224848179261915075 573147844013817084101\n"
     ]
    }
   ],
   "source": [
    "for num in Fibonacci():\n",
    "    print num\n",
    "    \n",
    "# Print first 100 fibonacci numbers\n",
    "\n",
    "for num in Fibonacci(100):\n",
    "    print num,\n",
    "    \n",
    "print"
   ]
  },
  {
   "cell_type": "code",
   "execution_count": 4,
   "metadata": {},
   "outputs": [
    {
     "name": "stdout",
     "output_type": "stream",
     "text": [
      "[1, 2, 3, 5, 8, 13, 21, 34, 55, 89, 144, 233, 377, 610, 987, 1597, 2584, 4181, 6765, 10946, 17711, 28657, 46368, 75025, 121393, 196418, 317811, 514229, 832040, 1346269, 2178309, 3524578, 5702887, 9227465, 14930352, 24157817, 39088169, 63245986, 102334155, 165580141, 267914296, 433494437, 701408733, 1134903170, 1836311903, 2971215073, 4807526976, 7778742049, 12586269025, 20365011074, 32951280099, 53316291173, 86267571272, 139583862445, 225851433717, 365435296162, 591286729879, 956722026041, 1548008755920, 2504730781961, 4052739537881, 6557470319842, 10610209857723, 17167680177565, 27777890035288, 44945570212853, 72723460248141, 117669030460994, 190392490709135, 308061521170129, 498454011879264, 806515533049393, 1304969544928657, 2111485077978050, 3416454622906707, 5527939700884757, 8944394323791464, 14472334024676221, 23416728348467685, 37889062373143906, 61305790721611591, 99194853094755497, 160500643816367088, 259695496911122585, 420196140727489673, 679891637638612258, 1100087778366101931, 1779979416004714189, 2880067194370816120, 4660046610375530309, 7540113804746346429, 12200160415121876738L, 19740274219868223167L, 31940434634990099905L, 51680708854858323072L, 83621143489848422977L, 135301852344706746049L, 218922995834555169026L, 354224848179261915075L, 573147844013817084101L]\n"
     ]
    }
   ],
   "source": [
    "# Since this is an iterator, converting to other iterator types is not difficult\n",
    "fibonacci_100 = list(Fibonacci(100))\n",
    "print fibonacci_100"
   ]
  },
  {
   "cell_type": "markdown",
   "metadata": {},
   "source": [
    "### Generators\n",
    "\n",
    "1. Generators allow a very elegant way to write (typically infinite) iterators. \n",
    "2. They do this using the *yield* keyword.\n",
    "3. Execution stops at this point and the state of the generator is frozen. The generator is able to *return* a value at this point as an iterator.\n",
    "4. In the next step of execution, the generator resumes from this point and continues on."
   ]
  },
  {
   "cell_type": "code",
   "execution_count": 71,
   "metadata": {
    "collapsed": true
   },
   "outputs": [],
   "source": [
    "### Fibonacci generator\n",
    "\n",
    "def fibonacci(num=10):\n",
    "    \"\"\" A fibonacci generator \"\"\"\n",
    "    a, b = 0, 1\n",
    "    for i in range(num):\n",
    "        c = a + b\n",
    "        a, b = b, c\n",
    "        # Not returning, but yielding\n",
    "        yield c\n",
    "        "
   ]
  },
  {
   "cell_type": "code",
   "execution_count": 74,
   "metadata": {},
   "outputs": [
    {
     "name": "stdout",
     "output_type": "stream",
     "text": [
      "<generator object fibonacci at 0x7fbbf50790f0>\n",
      "generator\n"
     ]
    }
   ],
   "source": [
    "fib = fibonacci()\n",
    "print fib\n",
    "print type(fib).__name__"
   ]
  },
  {
   "cell_type": "code",
   "execution_count": 93,
   "metadata": {},
   "outputs": [
    {
     "name": "stdout",
     "output_type": "stream",
     "text": [
      "1\n",
      "2\n",
      "3\n",
      "5\n",
      "8\n",
      "13\n",
      "21\n",
      "34\n",
      "55\n",
      "89\n"
     ]
    }
   ],
   "source": [
    "f = fibonacci(10)\n",
    "for item in f:\n",
    "    print item\n",
    "    \n",
    "for item in f:\n",
    "    print item  "
   ]
  },
  {
   "cell_type": "code",
   "execution_count": 75,
   "metadata": {},
   "outputs": [
    {
     "name": "stdout",
     "output_type": "stream",
     "text": [
      "1\n",
      "2\n",
      "3\n",
      "5\n",
      "8\n",
      "13\n",
      "21\n",
      "34\n",
      "55\n",
      "89\n",
      "[1, 2, 3, 5, 8, 13, 21, 34, 55, 89]\n"
     ]
    }
   ],
   "source": [
    "# It executes when called in a for loop\n",
    "for i in fib:\n",
    "    print i\n",
    "    \n",
    "# Or when converted to another iterator -> such as a list\n",
    "print list(fibonacci(10))"
   ]
  },
  {
   "cell_type": "code",
   "execution_count": 80,
   "metadata": {
    "collapsed": true
   },
   "outputs": [],
   "source": [
    "## Another example - this one is a generator that\n",
    "# returns multiples of either 2 or 3 by using multiple yields\n",
    "\n",
    "def multiples(num=100):\n",
    "    for i in range(2, num):\n",
    "        if i % 2 == 0:\n",
    "            yield i\n",
    "        # I have still the same i\n",
    "        # yield i*i\n",
    "        if i % 3 == 0:\n",
    "            yield i\n",
    "    "
   ]
  },
  {
   "cell_type": "code",
   "execution_count": 79,
   "metadata": {},
   "outputs": [
    {
     "name": "stdout",
     "output_type": "stream",
     "text": [
      "[2, 4, 9, 3, 4, 16, 25, 6, 36, 6, 49, 8, 64, 81, 9, 10, 100, 121, 12, 144, 12, 169, 14, 196, 225, 15, 16, 256, 289, 18, 324, 18, 361, 20, 400, 441, 21, 22, 484, 529, 24, 576, 24, 625, 26, 676, 729, 27, 28, 784, 841, 30, 900, 30, 961, 32, 1024, 1089, 33, 34, 1156, 1225, 36, 1296, 36, 1369, 38, 1444, 1521, 39, 40, 1600, 1681, 42, 1764, 42, 1849, 44, 1936, 2025, 45, 46, 2116, 2209, 48, 2304, 48, 2401]\n"
     ]
    }
   ],
   "source": [
    "print list(multiples(num=50))\n",
    "# You see numbers getting repeated when they are multiples of both 2 and 3!"
   ]
  },
  {
   "cell_type": "markdown",
   "metadata": {},
   "source": [
    "### How to limit outputs from infinite generators, which dont take arguments ?"
   ]
  },
  {
   "cell_type": "code",
   "execution_count": 82,
   "metadata": {
    "collapsed": true
   },
   "outputs": [],
   "source": [
    "## Example our original Fibonacci iterator (reproduced here)\n",
    "\n",
    "# Calling it as iFibonacci\n",
    "class iFibonacci(object):\n",
    "    \"\"\" An infinite fibonacci iterator class \"\"\"\n",
    "    \n",
    "    def __init__(self):\n",
    "        self.a = 0\n",
    "        self.b = 1\n",
    "        \n",
    "    def __iter__(self):\n",
    "        return self\n",
    "    \n",
    "    def next(self):\n",
    "        c = self.a + self.b\n",
    "        self.a, self.b = self.b, c\n",
    "        return c"
   ]
  },
  {
   "cell_type": "markdown",
   "metadata": {},
   "source": [
    "## The itertools module comes to rescue\n",
    "## One can use different functions provide by this module to do this"
   ]
  },
  {
   "cell_type": "code",
   "execution_count": 133,
   "metadata": {},
   "outputs": [
    {
     "name": "stdout",
     "output_type": "stream",
     "text": [
      "1\n",
      "2\n",
      "3\n",
      "5\n"
     ]
    }
   ],
   "source": [
    "f = fibonacci()\n",
    "print f.next()\n",
    "print f.next()\n",
    "print f.next()\n",
    "print f.next()"
   ]
  },
  {
   "cell_type": "code",
   "execution_count": 83,
   "metadata": {},
   "outputs": [
    {
     "name": "stdout",
     "output_type": "stream",
     "text": [
      "1\n",
      "2\n",
      "3\n",
      "5\n",
      "8\n",
      "13\n",
      "21\n",
      "34\n",
      "55\n",
      "89\n"
     ]
    }
   ],
   "source": [
    "# Getting first 10 fibonacci numbers using itertools.islice\n",
    "import itertools\n",
    "\n",
    "for item in itertools.islice(iFibonacci(), 10):\n",
    "    print item"
   ]
  },
  {
   "cell_type": "code",
   "execution_count": 86,
   "metadata": {},
   "outputs": [
    {
     "name": "stdout",
     "output_type": "stream",
     "text": [
      "1\n",
      "3\n",
      "5\n",
      "13\n",
      "21\n",
      "55\n",
      "89\n",
      "233\n",
      "377\n",
      "987\n"
     ]
    }
   ],
   "source": [
    "# Getting first 10 Fibonacci numbers which are odd by combining islice with ifilterfalse\n",
    "\n",
    "for item in itertools.islice(itertools.ifilterfalse(lambda x: x%2 ==0, iFibonacci()), 10):\n",
    "    print item"
   ]
  },
  {
   "cell_type": "code",
   "execution_count": 87,
   "metadata": {
    "collapsed": true
   },
   "outputs": [],
   "source": [
    "def is_prime(n):\n",
    "    \"\"\" Prime filter \"\"\"\n",
    "    if n == 1:\n",
    "        return False\n",
    "    \n",
    "    for i in range(2, int(n**0.5)+1):\n",
    "        if n % i == 0:\n",
    "            return False\n",
    "    return True"
   ]
  },
  {
   "cell_type": "code",
   "execution_count": 88,
   "metadata": {},
   "outputs": [
    {
     "name": "stdout",
     "output_type": "stream",
     "text": [
      "2\n",
      "3\n",
      "5\n",
      "13\n",
      "89\n",
      "233\n",
      "1597\n",
      "28657\n",
      "514229\n",
      "433494437\n"
     ]
    }
   ],
   "source": [
    "# First 10 Prime fibonacci numbers\n",
    "for item in itertools.islice(itertools.ifilter(is_prime, \n",
    "                                               iFibonacci()), 10):\n",
    "    print item"
   ]
  },
  {
   "cell_type": "code",
   "execution_count": 89,
   "metadata": {
    "collapsed": true
   },
   "outputs": [],
   "source": [
    "## Itertools module - other uses.\n",
    "import os\n",
    "\n",
    "# Chain data from one or more iterators\n",
    "def odd(n):\n",
    "    for i in range(1, n):\n",
    "        if i % 2:\n",
    "            yield i\n",
    "         \n",
    "def even(n):\n",
    "    for i in range(1, n):\n",
    "        if i % 2 == 0:\n",
    "            yield i\n",
    "            "
   ]
  },
  {
   "cell_type": "code",
   "execution_count": 90,
   "metadata": {},
   "outputs": [
    {
     "name": "stdout",
     "output_type": "stream",
     "text": [
      "1 3 5 7 9 11 13 15 17 19 21 23 25 27 29 31 33 35 37 39 2 4 6 8 10 12 14 16 18 20 22 24 26 28 30 32 34 36 38 40\n"
     ]
    }
   ],
   "source": [
    "# Chain both iterators together - data is returned from one afer other is done.\n",
    "for i in itertools.chain(itertools.islice(odd(50), 20), \n",
    "                         itertools.islice(even(50), 20)):\n",
    "    print i,\n",
    "print"
   ]
  },
  {
   "cell_type": "code",
   "execution_count": 55,
   "metadata": {},
   "outputs": [
    {
     "name": "stdout",
     "output_type": "stream",
     "text": [
      "defaultdict(<type 'int'>, {'a': 4, 'c': 4, 'e': 3, 'd': 1, 'h': 1, 'k': 1, 'm': 1, 'o': 4, 'n': 1, 'p': 2, 'r': 3, 't': 1, 'w': 2, 'v': 1})\n"
     ]
    }
   ],
   "source": [
    "import collections\n",
    "\n",
    "# Self-study\n",
    "birds = ['parrot','crow','dove','peacock','macaw','hen']\n",
    "frequency = collections.defaultdict(int)\n",
    "    \n",
    "for letter in itertools.chain(*birds): \n",
    "    frequency[letter] += 1                  \n",
    "print frequency"
   ]
  },
  {
   "cell_type": "code",
   "execution_count": 96,
   "metadata": {},
   "outputs": [
    {
     "name": "stdout",
     "output_type": "stream",
     "text": [
      "Grouped names=> [['Anand', 'Appu', 'Anirudh', 'Aparna'], ['Bipin'], ['Chandra'], ['Dolly'], ['Esther'], ['Fatima'], ['Partha'], ['Shruti', 'Sasi', 'Susan'], ['Tara']]\n",
      "Unique keys=> ['A', 'B', 'C', 'D', 'E', 'F', 'P', 'S', 'T']\n"
     ]
    }
   ],
   "source": [
    "# Grouping sub iterators\n",
    "# Let us group names together which are starting with same letter\n",
    "names = ['Anand', 'Bipin', 'Appu', 'Chandra', 'Dolly', 'Fatima', 'Shruti',\n",
    "         'Tara', 'Sasi', 'Susan', 'Anirudh', 'Aparna', 'Esther', 'Partha']\n",
    "# names2 = ['Tushar', 'Abhinav', 'Unnikrishnan', 'Sundara', 'Sapna', 'Cecil',\n",
    "#          'Rajesh', 'Mona', 'Nandita', 'Meenakshi', 'Rathi', 'Veena', 'Apsara']\n",
    "\n",
    "data = sorted(names, key=lambda x: x[0])\n",
    "groups = []\n",
    "unique_keys= []\n",
    "for k,g in itertools.groupby(data, lambda x: x[0]):\n",
    "    groups.append(list(g))\n",
    "    unique_keys.append(k[0])\n",
    "    \n",
    "print 'Grouped names=>',groups\n",
    "print 'Unique keys=>', unique_keys"
   ]
  },
  {
   "cell_type": "code",
   "execution_count": 104,
   "metadata": {},
   "outputs": [
    {
     "name": "stdout",
     "output_type": "stream",
     "text": [
      "[70, 87, 71, 74, 49, 95, 15, 66, 31, 88, 88, 16, 77, 91, 12, 25, 30, 64, 75, 88, 23, 25, 24, 66, 15, 21, 42]\n"
     ]
    }
   ],
   "source": [
    "# Sentinel logic - Random numbers till we hit a sentinel \n",
    "# (a marker number)\n",
    "import random\n",
    "\n",
    "nums = []        \n",
    "sentinel = 42\n",
    "\n",
    "# Simple implementation\n",
    "while True:\n",
    "    num = random.randrange(1, 100)\n",
    "    nums.append(num)\n",
    "    if num == sentinel: break\n",
    "    \n",
    "print nums"
   ]
  },
  {
   "cell_type": "code",
   "execution_count": 59,
   "metadata": {},
   "outputs": [
    {
     "name": "stdout",
     "output_type": "stream",
     "text": [
      "[5, 7, 65, 92, 56, 44, 36, 36]\n"
     ]
    }
   ],
   "source": [
    "# Functools implementation\n",
    "import functools\n",
    "\n",
    "func = functools.partial(random.randrange, 1, 100) \n",
    "nums, sentinel = [], 42\n",
    "\n",
    "for num in iter(func, sentinel):    \n",
    "    nums.append(num)\n"
   ]
  },
  {
   "cell_type": "code",
   "execution_count": 122,
   "metadata": {},
   "outputs": [
    {
     "name": "stdout",
     "output_type": "stream",
     "text": [
      "[8, 40, 68, 32, 76, 31]\n"
     ]
    }
   ],
   "source": [
    "# itertools implementation - one liner!\n",
    "from itertools import takewhile, imap, cycle\n",
    "\n",
    "print list(takewhile(lambda x: x!=sentinel, imap(random.randrange, \n",
    "                                                 cycle([1]), cycle([100])))) "
   ]
  },
  {
   "cell_type": "code",
   "execution_count": 105,
   "metadata": {},
   "outputs": [
    {
     "data": {
      "text/plain": [
       "[1, 4, 9, 16, 25, 36, 49, 64, 81]"
      ]
     },
     "execution_count": 105,
     "metadata": {},
     "output_type": "execute_result"
    }
   ],
   "source": [
    "map(lambda x: x*x, range(1, 10))"
   ]
  },
  {
   "cell_type": "code",
   "execution_count": 108,
   "metadata": {},
   "outputs": [
    {
     "data": {
      "text/plain": [
       "[2, 4, 6, 8, 10, 12, 14, 16, 18]"
      ]
     },
     "execution_count": 108,
     "metadata": {},
     "output_type": "execute_result"
    }
   ],
   "source": [
    "map(lambda x, y: x*y, range(1,10), [2]*9)"
   ]
  },
  {
   "cell_type": "code",
   "execution_count": 72,
   "metadata": {},
   "outputs": [
    {
     "data": {
      "text/plain": [
       "[2, 4, 6, 8, 10, 12, 14, 16, 18]"
      ]
     },
     "execution_count": 72,
     "metadata": {},
     "output_type": "execute_result"
    }
   ],
   "source": [
    "# Supply constant values to a function\n",
    "list(imap(lambda x, y: x*y, range(1, 10), repeat(2)))"
   ]
  },
  {
   "cell_type": "code",
   "execution_count": 114,
   "metadata": {},
   "outputs": [
    {
     "name": "stdout",
     "output_type": "stream",
     "text": [
      "[50, 97, 26, 55, 1, 48, 1, 99, 56, 73]\n"
     ]
    }
   ],
   "source": [
    "imap(random.randrange, repeat(1), repeat(100)), 10))\n",
    "\n"
   ]
  },
  {
   "cell_type": "code",
   "execution_count": 118,
   "metadata": {},
   "outputs": [
    {
     "name": "stdout",
     "output_type": "stream",
     "text": [
      "[90, 30, 37, 38, 45, 58, 76, 83, 95, 68, 79, 17, 37, 43, 90, 84, 44, 95, 23, 23, 46, 2, 99, 41, 9, 96, 50, 76, 63, 63, 23, 51, 23, 94, 73, 47, 49, 11, 65, 77, 61, 95, 94, 3, 33, 61, 43, 41, 9, 5, 72, 61, 73, 79, 40, 36, 29, 68, 99, 13, 61, 21, 67, 18, 58, 63, 9, 62, 29, 16, 37, 84, 61, 98, 76, 18, 94, 41, 85, 95, 4, 88, 1, 7, 88, 30, 8, 1, 50, 38, 50, 77, 68, 43, 32, 23, 74, 9, 49, 92, 87, 55, 54, 90, 61, 19, 48, 88, 32, 65, 85]\n"
     ]
    }
   ],
   "source": [
    "# Sentinel implemented using repeat\n",
    "from itertools import repeat, takewhile, imap\n",
    "\n",
    "print list(takewhile(lambda x: x != sentinel, imap(random.randrange, \n",
    "                                                   repeat(1), repeat(100))))"
   ]
  },
  {
   "cell_type": "code",
   "execution_count": 128,
   "metadata": {},
   "outputs": [
    {
     "name": "stdout",
     "output_type": "stream",
     "text": [
      "A+\n",
      "A-\n",
      "B+\n",
      "B-\n",
      "AB+\n",
      "AB-\n",
      "O+\n",
      "O-\n",
      "===\n",
      "A B\n",
      "A AB\n",
      "A O\n",
      "B AB\n",
      "B O\n",
      "AB O\n",
      "===\n",
      "A B AB\n",
      "A B O\n",
      "A AB B\n",
      "A AB O\n",
      "A O B\n",
      "A O AB\n",
      "B A AB\n",
      "B A O\n",
      "B AB A\n",
      "B AB O\n",
      "B O A\n",
      "B O AB\n",
      "AB A B\n",
      "AB A O\n",
      "AB B A\n",
      "AB B O\n",
      "AB O A\n",
      "AB O B\n",
      "O A B\n",
      "O A AB\n",
      "O B A\n",
      "O B AB\n",
      "O AB A\n",
      "O AB B\n"
     ]
    }
   ],
   "source": [
    "groups=['A','B','AB','O']\n",
    "RH=['+','-']\n",
    "\n",
    "for i in itertools.product(groups, RH):\n",
    "    print ''.join(i)\n",
    "    \n",
    "print '==='\n",
    "for i in itertools.combinations(groups, 2):\n",
    "    print ' '.join(i)\n",
    "    \n",
    "print '==='\n",
    "for i in itertools.permutations(groups, 3):\n",
    "    print ' '.join(i)"
   ]
  },
  {
   "cell_type": "markdown",
   "metadata": {},
   "source": [
    "## Coroutines - Sending values to generators\n"
   ]
  },
  {
   "cell_type": "code",
   "execution_count": 134,
   "metadata": {
    "collapsed": true
   },
   "outputs": [],
   "source": [
    "# Let us say we got this infinite generator\n",
    "\n",
    "def mul3():\n",
    "    i = 0\n",
    "    while True:\n",
    "        i += 3\n",
    "        yield i"
   ]
  },
  {
   "cell_type": "code",
   "execution_count": 135,
   "metadata": {},
   "outputs": [
    {
     "data": {
      "text/plain": [
       "[3, 6, 9, 12, 15, 18, 21, 24, 27, 30]"
      ]
     },
     "execution_count": 135,
     "metadata": {},
     "output_type": "execute_result"
    }
   ],
   "source": [
    "# Get first 10 multiples of 3\n",
    "list(itertools.islice(mul3(), 10))\n"
   ]
  },
  {
   "cell_type": "code",
   "execution_count": 145,
   "metadata": {
    "collapsed": true
   },
   "outputs": [],
   "source": [
    "# Let us say we want the iterator to start from a given value\n",
    "# In other words, we want to <input> a state to this iterator\n",
    "\n",
    "def mul3():\n",
    "    i = 0\n",
    "    x = (yield)\n",
    "    if x != None:\n",
    "        i = x\n",
    "    while True:\n",
    "        yield i\n",
    "        i += 3"
   ]
  },
  {
   "cell_type": "code",
   "execution_count": 137,
   "metadata": {},
   "outputs": [
    {
     "ename": "TypeError",
     "evalue": "unsupported operand type(s) for +=: 'NoneType' and 'int'",
     "output_type": "error",
     "traceback": [
      "\u001b[0;31m---------------------------------------------------------------------------\u001b[0m",
      "\u001b[0;31mTypeError\u001b[0m                                 Traceback (most recent call last)",
      "\u001b[0;32m<ipython-input-137-fe30b2db7bc9>\u001b[0m in \u001b[0;36m<module>\u001b[0;34m()\u001b[0m\n\u001b[1;32m      1\u001b[0m \u001b[0;31m# Get first 10 multiples of 3\u001b[0m\u001b[0;34m\u001b[0m\u001b[0;34m\u001b[0m\u001b[0m\n\u001b[0;32m----> 2\u001b[0;31m \u001b[0mlist\u001b[0m\u001b[0;34m(\u001b[0m\u001b[0mitertools\u001b[0m\u001b[0;34m.\u001b[0m\u001b[0mislice\u001b[0m\u001b[0;34m(\u001b[0m\u001b[0mmul3\u001b[0m\u001b[0;34m(\u001b[0m\u001b[0;34m)\u001b[0m\u001b[0;34m,\u001b[0m \u001b[0;36m10\u001b[0m\u001b[0;34m)\u001b[0m\u001b[0;34m)\u001b[0m\u001b[0;34m\u001b[0m\u001b[0m\n\u001b[0m",
      "\u001b[0;32m<ipython-input-136-a9b898eff3af>\u001b[0m in \u001b[0;36mmul3\u001b[0;34m()\u001b[0m\n\u001b[1;32m      6\u001b[0m     \u001b[0;32mwhile\u001b[0m \u001b[0mTrue\u001b[0m\u001b[0;34m:\u001b[0m\u001b[0;34m\u001b[0m\u001b[0m\n\u001b[1;32m      7\u001b[0m         \u001b[0;32myield\u001b[0m \u001b[0mi\u001b[0m\u001b[0;34m\u001b[0m\u001b[0m\n\u001b[0;32m----> 8\u001b[0;31m         \u001b[0mi\u001b[0m \u001b[0;34m+=\u001b[0m \u001b[0;36m3\u001b[0m\u001b[0;34m\u001b[0m\u001b[0m\n\u001b[0m",
      "\u001b[0;31mTypeError\u001b[0m: unsupported operand type(s) for +=: 'NoneType' and 'int'"
     ]
    }
   ],
   "source": [
    "# Get first 10 multiples of 3\n",
    "list(itertools.islice(mul3(), 10))"
   ]
  },
  {
   "cell_type": "code",
   "execution_count": 151,
   "metadata": {},
   "outputs": [
    {
     "data": {
      "text/plain": [
       "[15, 18, 21, 24, 27, 30, 33, 36, 39, 42]"
      ]
     },
     "execution_count": 151,
     "metadata": {},
     "output_type": "execute_result"
    }
   ],
   "source": [
    "g = mul3()\n",
    "# This is required for generators which doesn't have a default value\n",
    "# and needs to supply it from outside.\n",
    "\n",
    "g.next()\n",
    "g.send(12)\n",
    "#\n",
    "# Dont do this\n",
    "# g.send(None)\n",
    "# Send it a value\n",
    "# g.send(99)\n",
    "\n",
    "# print g.next()\n",
    "\n",
    "# Iterate as usual\n",
    "list(itertools.islice(g, 10))"
   ]
  },
  {
   "cell_type": "code",
   "execution_count": null,
   "metadata": {
    "collapsed": true
   },
   "outputs": [],
   "source": []
  },
  {
   "cell_type": "code",
   "execution_count": 152,
   "metadata": {
    "collapsed": true
   },
   "outputs": [],
   "source": [
    "\n",
    "def grep(pattern):\n",
    "    print \"Looking for %s\" % pattern\n",
    "   \n",
    "    while True:\n",
    "        line = (yield)\n",
    "        if pattern in line:\n",
    "            print line\n"
   ]
  },
  {
   "cell_type": "code",
   "execution_count": 153,
   "metadata": {},
   "outputs": [
    {
     "name": "stdout",
     "output_type": "stream",
     "text": [
      "Looking for python\n"
     ]
    }
   ],
   "source": [
    "g = grep(\"python\")\n",
    "# Prime it\n",
    "g.next()"
   ]
  },
  {
   "cell_type": "code",
   "execution_count": 154,
   "metadata": {},
   "outputs": [
    {
     "name": "stdout",
     "output_type": "stream",
     "text": [
      "They found a python hiding in the bushes\n",
      "They left the python alone\n"
     ]
    }
   ],
   "source": [
    "g.send(\"Fighers in the forest!\")\n",
    "g.send(\"They found a python hiding in the bushes\")\n",
    "g.send(\"They left the python alone\")"
   ]
  },
  {
   "cell_type": "code",
   "execution_count": 156,
   "metadata": {},
   "outputs": [
    {
     "name": "stdout",
     "output_type": "stream",
     "text": [
      "I was wondering at the beauty of nature.\n",
      "I had Python training.\n",
      "The instructor was good, but I found it difficult to focus.\n",
      "Till this example came, and then I was all awake.\n",
      "I thought of my younger days when I used to love to play in them.\n",
      "Now a days, I dont allow my kids to do the same.\n"
     ]
    }
   ],
   "source": [
    "# Writing a program that 'grep's for lines in text files\n",
    "import os\n",
    "\n",
    "def grep(pattern, lines):\n",
    "    for line in lines:\n",
    "        if pattern in line.split():\n",
    "            yield line\n",
    "            \n",
    "def follow(folder):\n",
    "    for item in os.listdir(folder):\n",
    "        filename = os.path.join(folder, item)\n",
    "        if os.path.isfile(filename):\n",
    "            for line in open(filename):\n",
    "                yield line\n",
    "        \n",
    "for line in grep('I', follow('test')):\n",
    "    print line,"
   ]
  },
  {
   "cell_type": "code",
   "execution_count": 1,
   "metadata": {
    "collapsed": true
   },
   "outputs": [],
   "source": [
    "# and look at the efficiency of lookups.\n",
    "import random\n",
    "import string\n",
    "    \n",
    "vowels='aeiou'\n",
    "consonants = ''.join(set(string.ascii_lowercase) - set(vowels))\n",
    "\n",
    "def random_name():\n",
    "    \"\"\" A random name generator which generates\n",
    "    names by clever placing of vowels and consontants \"\"\"\n",
    "\n",
    "    items = ['']*10\n",
    "\n",
    "    for i in (0, 2, 4, 6, 8):\n",
    "        items[i] = random.choice(consonants)\n",
    "        \n",
    "    for i in (1, 3, 5, 7, 9):\n",
    "        items[i] = random.choice(vowels)            \n",
    "\n",
    "\n",
    "    return ''.join(items).capitalize()"
   ]
  },
  {
   "cell_type": "code",
   "execution_count": 2,
   "metadata": {
    "collapsed": true
   },
   "outputs": [],
   "source": [
    "def my_random_name(letters=['B','C']):\n",
    "    while True:\n",
    "        name = random_name()\n",
    "        if name[0] not in letters:\n",
    "            yield name\n",
    "            \n"
   ]
  },
  {
   "cell_type": "code",
   "execution_count": 3,
   "metadata": {},
   "outputs": [
    {
     "name": "stdout",
     "output_type": "stream",
     "text": [
      "['Kirisitoma', 'Vofimasane', 'Ditiziqofu', 'Ronigemoki', 'Hezogijeva', 'Xaxigetepi', 'Qedatuhovu', 'Hetudavizi', 'Rafipapare', 'Dudupaxegi', 'Rijoqohuqu', 'Sesanobeko', 'Deporaqula', 'Ginizepeyi', 'Lanowawaqi', 'Kegopoloki', 'Zezosekaso', 'Zojopefabu', 'Xudajocoto', 'Jubuvapunu']\n"
     ]
    }
   ],
   "source": [
    "from itertools import islice\n",
    "print list(islice(my_random_name(), 20))\n"
   ]
  },
  {
   "cell_type": "code",
   "execution_count": 183,
   "metadata": {
    "collapsed": true
   },
   "outputs": [],
   "source": [
    "def my_random_name():\n",
    "    while True:\n",
    "        yield random_name()\n",
    "        \n",
    "def infinte_gen(f):\n",
    "    while True:\n",
    "        yield f()"
   ]
  },
  {
   "cell_type": "code",
   "execution_count": 6,
   "metadata": {},
   "outputs": [],
   "source": [
    "import itertools\n",
    "\n",
    "def my_filter(letters=['B,C']):\n",
    "    return list(itertools.islice(itertools.\\\n",
    "                                 ifilter(lambda x: x[0] not in letters,\n",
    "                                  my_random_name()), 20))\n"
   ]
  },
  {
   "cell_type": "code",
   "execution_count": 7,
   "metadata": {},
   "outputs": [
    {
     "data": {
      "text/plain": [
       "['Vafekofopu',\n",
       " 'Refisesini',\n",
       " 'Nuhifagege',\n",
       " 'Voyiwehezo',\n",
       " 'Luwayafahi',\n",
       " 'Xihapohege',\n",
       " 'Zofevaxadu',\n",
       " 'Vomisedihu',\n",
       " 'Xupexikoma',\n",
       " 'Gekikeveju',\n",
       " 'Vigikukuso',\n",
       " 'Xegimozeqa',\n",
       " 'Tiveqineme',\n",
       " 'Yazutoteve',\n",
       " 'Xocusocuza',\n",
       " 'Simonuqija',\n",
       " 'Roxotazezo',\n",
       " 'Zukecamiho',\n",
       " 'Rejudeloyu',\n",
       " 'Nelamedaco']"
      ]
     },
     "execution_count": 7,
     "metadata": {},
     "output_type": "execute_result"
    }
   ],
   "source": [
    "my_filter(letters=['A','F'])"
   ]
  }
 ],
 "metadata": {
  "kernelspec": {
   "display_name": "Python 2",
   "language": "python",
   "name": "python2"
  },
  "language_info": {
   "codemirror_mode": {
    "name": "ipython",
    "version": 2
   },
   "file_extension": ".py",
   "mimetype": "text/x-python",
   "name": "python",
   "nbconvert_exporter": "python",
   "pygments_lexer": "ipython2",
   "version": "2.7.12"
  }
 },
 "nbformat": 4,
 "nbformat_minor": 2
}
