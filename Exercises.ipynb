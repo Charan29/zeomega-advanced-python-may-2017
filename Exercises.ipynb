{
 "cells": [
  {
   "cell_type": "markdown",
   "metadata": {},
   "source": [
    "### Exercises\n",
    "\n",
    "  1. Implement a method for parsing files in a folder and sorting all      \n",
    "  the lines in order of length. The function for this should accept \n",
    "  variable arguments (*args). The arguments should be the list of \n",
    "  files in the folder that you want to process supplied to the \n",
    "  function via the command line.\n",
    "  Try to use whatever we learned so far including itertools,generators etc when writing the code.\n",
    "  \n",
    "  \n",
    "  \n",
    "  \n",
    "  \n",
    " \n"
   ]
  },
  {
   "cell_type": "markdown",
   "metadata": {},
   "source": [
    "2. Create a class that allows you to model a training session such as this. Attributes required are training name, trainer name, number of attendees and dates of training. You can also add optional attributes like employees attending the training. \n",
    "\n",
    "  Once this is done add properties for,\n",
    "\n",
    "   1. training audience size\n",
    "   2. training completed ? (using current date and time)\n",
    "\n",
    "  Add class variable and class method for,\n",
    "\n",
    "   1. Total number of people attended the training.\n",
    "   2. Number of people who attended the training on each day (hint: dictionary)\n"
   ]
  },
  {
   "cell_type": "code",
   "execution_count": 1,
   "metadata": {
    "collapsed": true
   },
   "outputs": [],
   "source": [
    "def make_random_file(filename):\n",
    "    \"\"\" Create a file with some random text inside it \"\"\"\n",
    "    \n",
    "    lines = []\n",
    "    for i in range(50):\n",
    "        size = random.randrange(50, 100)\n",
    "        text = ''.join(random.sample(letters, size))\n",
    "        lines.append(text + '\\n')\n",
    "    open(filename, 'w').writelines(lines)"
   ]
  }
 ],
 "metadata": {
  "kernelspec": {
   "display_name": "Python 2",
   "language": "python",
   "name": "python2"
  },
  "language_info": {
   "codemirror_mode": {
    "name": "ipython",
    "version": 2
   },
   "file_extension": ".py",
   "mimetype": "text/x-python",
   "name": "python",
   "nbconvert_exporter": "python",
   "pygments_lexer": "ipython2",
   "version": "2.7.12"
  }
 },
 "nbformat": 4,
 "nbformat_minor": 2
}
