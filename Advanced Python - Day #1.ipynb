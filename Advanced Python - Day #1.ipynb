{
 "cells": [
  {
   "cell_type": "markdown",
   "metadata": {},
   "source": [
    "## Advanced Python - Day #1"
   ]
  },
  {
   "cell_type": "markdown",
   "metadata": {},
   "source": [
    "## Performance\n",
    "\n",
    "1. What is performance ?\n",
    "\n",
    "   Performance is the metric by which we measure efficiency of a piece of code. Performance     \n",
    "   can be measured in terms of clock time taken by a code to execute with respect to its\n",
    "   input size. Other measures of performance include,\n",
    "\n",
    "    1. CPU time taken by the code\n",
    "    2. Peak memory occupied by the code during execution.\n",
    "   \n",
    "2. Traditionally performance is measured using the Big-O notation. This uses functions to map the input size to wall clock time taken by the code to execute. \n",
    "\n",
    "\n",
    "    1. O(1) => Constant time, the time taken doesn't vary accoding to input size. This is the best place to be!\n",
    "    2. O(n) => Linear time, the time taken increases linearly with respect to its input. This is also a good place to be.\n",
    "    3. O(log(n)) => Logarithmic time, also a great place to be.\n",
    "    4. O(n*log(n)) => n*log(n), worse than linear, but better then quadratic.\n",
    "    3. O(n*n) => Quadratic time, not a great place to be. Should try and optimize to O(n*log(n)) or O(n) if possible.\n",
    "   \n"
   ]
  },
  {
   "cell_type": "markdown",
   "metadata": {},
   "source": [
    "## Big-O notation - Common Orders of time.\n",
    "<img src=\"images/bigo.png\" />\n"
   ]
  },
  {
   "cell_type": "markdown",
   "metadata": {},
   "source": [
    "## Python - Performance of Common Data Structures "
   ]
  },
  {
   "cell_type": "markdown",
   "metadata": {},
   "source": [
    "### Dictionaries\n",
    "\n",
    "Dictionaries are best in,\n",
    "\n",
    "1. Inserting data by keys and for random look-up by keys. Dictionaries work using near constant time (O(1)) lookup.\n",
    "2. Very useful for keeping a lot of read-only data by keys which are modified rather rarely.\n"
   ]
  },
  {
   "cell_type": "code",
   "execution_count": 21,
   "metadata": {},
   "outputs": [
    {
     "name": "stdout",
     "output_type": "stream",
     "text": [
      "-3516433884261825872\n",
      "2085117331788275569\n",
      "-895070356814003151\n",
      "{'Deepak': 1, 'Arjun': 1, 'Vignesh': 1, 'Anand': 1, 'Bipin': 1}\n"
     ]
    }
   ],
   "source": [
    "# Measuring time in Python using timeit module\n",
    "import timeit\n",
    "\n",
    "names = {'Anand': 1, 'Arjun': 1, 'Deepak': 1, 'Bipin': 1, \n",
    "        'Vignesh': 1}\n",
    "\n",
    "print hash('Deepak')\n",
    "print hash('Arjun')\n",
    "print hash('Bipin')\n",
    "print names\n",
    "def lookup(name):\n",
    "    try:\n",
    "        return names.get(name)\n",
    "    except KeyError:\n",
    "        pass\n",
    "    \n",
    "def lookup_k(name):\n",
    "    try:\n",
    "        return names[name]\n",
    "    except KeyError:\n",
    "        pass\n",
    "    "
   ]
  },
  {
   "cell_type": "code",
   "execution_count": 22,
   "metadata": {},
   "outputs": [
    {
     "name": "stdout",
     "output_type": "stream",
     "text": [
      "Time taken=> 0.472569465637 usec/pass\n",
      "Time taken=> 0.482070446014 usec/pass\n"
     ]
    }
   ],
   "source": [
    "print 'Time taken=>',1000000*timeit.Timer(\"lookup('Arjun')\", setup=\"from __main__ import lookup\").\\\n",
    "             timeit(number=100000)/100000.0, 'usec/pass'\n",
    "print 'Time taken=>',1000000*timeit.Timer(\"lookup('XYZ')\", setup=\"from __main__ import lookup\").\\\n",
    "             timeit(number=100000)/100000.0, 'usec/pass'"
   ]
  },
  {
   "cell_type": "code",
   "execution_count": 23,
   "metadata": {
    "collapsed": true
   },
   "outputs": [],
   "source": [
    "## Lets increase dictionary size by a lot - We will add a million names\n",
    "# and look at the efficiency of lookups.\n",
    "import random\n",
    "import string\n",
    "    \n",
    "vowels='aeiou'\n",
    "consonants = ''.join(set(string.ascii_lowercase) - set(vowels))\n",
    "\n",
    "def random_name():\n",
    "    \"\"\" A random name generator which generates\n",
    "    names by clever placing of vowels and consontants \"\"\"\n",
    "\n",
    "    items = ['']*10\n",
    "\n",
    "    for i in (0, 2, 4, 6, 8):\n",
    "        items[i] = random.choice(consonants)\n",
    "        \n",
    "    for i in (1, 3, 5, 7, 9):\n",
    "        items[i] = random.choice(vowels)            \n",
    "\n",
    "\n",
    "    return ''.join(items).capitalize()"
   ]
  },
  {
   "cell_type": "code",
   "execution_count": 29,
   "metadata": {},
   "outputs": [
    {
     "data": {
      "text/plain": [
       "'Gisisinuma'"
      ]
     },
     "execution_count": 29,
     "metadata": {},
     "output_type": "execute_result"
    }
   ],
   "source": [
    "random_name()"
   ]
  },
  {
   "cell_type": "code",
   "execution_count": 30,
   "metadata": {},
   "outputs": [
    {
     "name": "stdout",
     "output_type": "stream",
     "text": [
      "999962\n"
     ]
    }
   ],
   "source": [
    "# Initialize the dictionary\n",
    "name_dict = {random_name(): 1 for i in xrange(1000000)}\n",
    "# Size will never be equal to 1000000 since there will be duplicate names\n",
    "print len(name_dict)"
   ]
  },
  {
   "cell_type": "code",
   "execution_count": 42,
   "metadata": {
    "collapsed": true
   },
   "outputs": [],
   "source": [
    "def lookup2(name):\n",
    "    # print 'Looking up',name\n",
    "    return name_dict.get(name)\n",
    "    "
   ]
  },
  {
   "cell_type": "code",
   "execution_count": 46,
   "metadata": {},
   "outputs": [
    {
     "name": "stdout",
     "output_type": "stream",
     "text": [
      "Time taken=> 30.0080776215 usec/pass\n"
     ]
    }
   ],
   "source": [
    "# Now lookup random names\n",
    "# You can see that lookup is near constant time irrespective of size of the dictionary\n",
    "print 'Time taken=>',1000000*timeit.Timer(\"lookup2(random_name())\", \n",
    "                                          setup=\"from __main__ import lookup2, random_name\").\\\n",
    "             timeit(number=1000)/1000.0, 'usec/pass'"
   ]
  },
  {
   "cell_type": "code",
   "execution_count": 47,
   "metadata": {
    "collapsed": true
   },
   "outputs": [],
   "source": [
    "### But dictionaries are not too great for adding random data - \n",
    "# How do we know ?\n",
    "\n",
    "def add_random_names(name_dict, num=100):\n",
    "    # Add 100 random names to existing dictionary\n",
    "    for i in range(num):\n",
    "        name_dict[random_name()] = 1"
   ]
  },
  {
   "cell_type": "code",
   "execution_count": 48,
   "metadata": {},
   "outputs": [
    {
     "name": "stdout",
     "output_type": "stream",
     "text": [
      "Time taken=> 1821.51603699 usec/pass\n",
      "Time taken=> 3468.20902824 usec/pass\n",
      "Time taken=> 5486.46998405 usec/pass\n",
      "Time taken=> 6896.35396004 usec/pass\n"
     ]
    }
   ],
   "source": [
    "# Intialize the dictionary to 1000000 names\n",
    "name_dict = {random_name(): 1 for i in range(1000000)}\n",
    "\n",
    "print 'Time taken=>',1000000*timeit.Timer(\"add_random_names(name_dict)\", \n",
    "                                          setup=\"from __main__ import add_random_names, random_name, name_dict\").\\\n",
    "             timeit(number=1000)/1000.0, 'usec/pass'\n",
    "\n",
    "# Now adding 200 names - nearly double the time!\n",
    "print 'Time taken=>',1000000*timeit.Timer(\"add_random_names(name_dict, 200)\", \n",
    "                                          setup=\"from __main__ import add_random_names, random_name, name_dict\").\\\n",
    "             timeit(number=1000)/1000.0, 'usec/pass'\n",
    "# Now adding 300 names - nearly triple the time!\n",
    "print 'Time taken=>',1000000*timeit.Timer(\"add_random_names(name_dict, 300)\", \n",
    "                                          setup=\"from __main__ import add_random_names, random_name, name_dict\").\\\n",
    "             timeit(number=1000)/1000.0, 'usec/pass'\n",
    "# Now adding 400 names - nearly four times the time!\n",
    "print 'Time taken=>',1000000*timeit.Timer(\"add_random_names(name_dict, 400)\", \n",
    "                                          setup=\"from __main__ import add_random_names, random_name, name_dict\").\\\n",
    "             timeit(number=1000)/1000.0, 'usec/pass'"
   ]
  },
  {
   "cell_type": "markdown",
   "metadata": {},
   "source": [
    "### Conclusions\n",
    "1. Dictionaries have nearly constant lookup i.e O(1) time for looking up random items.\n",
    "2. Dictionaries have nearly linear i.e O(n) time for adding random items."
   ]
  },
  {
   "cell_type": "markdown",
   "metadata": {},
   "source": [
    "## Lists\n",
    "\n",
    "Lists are best in\n",
    "\n",
    "1. Adding heterogenous (mixed) data and looking them up given a known index\n",
    "\n",
    "Lists are not so good in\n",
    "\n",
    "1. Searching for a data in the list (using the \"in\" operator)"
   ]
  },
  {
   "cell_type": "code",
   "execution_count": 50,
   "metadata": {},
   "outputs": [
    {
     "name": "stdout",
     "output_type": "stream",
     "text": [
      "1000000\n"
     ]
    }
   ],
   "source": [
    "# Initialize the name list\n",
    "name_list = [random_name() for i in range(1000000)]\n",
    "# Size will be exactly equal to 1000000\n",
    "print len(name_list)"
   ]
  },
  {
   "cell_type": "code",
   "execution_count": 51,
   "metadata": {
    "collapsed": true
   },
   "outputs": [],
   "source": [
    "## Checking for name in list -> using 'in' operator\n",
    "def lookup_list(name):\n",
    "    return name in name_list"
   ]
  },
  {
   "cell_type": "code",
   "execution_count": 52,
   "metadata": {},
   "outputs": [
    {
     "name": "stdout",
     "output_type": "stream",
     "text": [
      "Time taken=> 27753.8199425 usec/pass\n"
     ]
    }
   ],
   "source": [
    "# Now lookup random names\n",
    "# You can see that lookup is near constant time irrespective of size of the dictionary\n",
    "print 'Time taken=>',1000000*timeit.Timer(\"lookup_list(random_name())\", \n",
    "                                          setup=\"from __main__ import lookup_list, random_name\").\\\n",
    "             timeit(number=1000)/1000.0, 'usec/pass'\n",
    "    \n",
    "# The list performs nearly 1000 times worse than the dictionary of equivalent size\n",
    "# for random lookups!"
   ]
  },
  {
   "cell_type": "code",
   "execution_count": 53,
   "metadata": {
    "collapsed": true
   },
   "outputs": [],
   "source": [
    "\n",
    "def add_random_namesl(name_list, num=100):\n",
    "    # Add 100 random names to existing list\n",
    "    for i in range(num):\n",
    "        name_list.append(random_name())"
   ]
  },
  {
   "cell_type": "code",
   "execution_count": 54,
   "metadata": {},
   "outputs": [
    {
     "name": "stdout",
     "output_type": "stream",
     "text": [
      "Time taken=> 1752.1648407 usec/pass\n",
      "Time taken=> 3421.33808136 usec/pass\n",
      "Time taken=> 5102.30398178 usec/pass\n",
      "Time taken=> 6883.4810257 usec/pass\n"
     ]
    }
   ],
   "source": [
    "# Now lets look at time taken for adding things to the list\n",
    "# Intialize the list to 1000000 names\n",
    "name_list = [random_name() for i in range(1000000)]\n",
    "\n",
    "print 'Time taken=>',1000000*timeit.Timer(\"add_random_namesl(name_list)\", \n",
    "                                          setup=\"from __main__ import add_random_namesl, random_name, name_list\").\\\n",
    "             timeit(number=1000)/1000.0, 'usec/pass'\n",
    "\n",
    "# Now adding 200 names - nearly double the time!\n",
    "print 'Time taken=>',1000000*timeit.Timer(\"add_random_namesl(name_list, 200)\", \n",
    "                                          setup=\"from __main__ import add_random_namesl, random_name, name_list\").\\\n",
    "             timeit(number=1000)/1000.0, 'usec/pass'\n",
    "# Now adding 300 names - nearly triple the time!\n",
    "print 'Time taken=>',1000000*timeit.Timer(\"add_random_namesl(name_list, 300)\", \n",
    "                                          setup=\"from __main__ import add_random_namesl, random_name, name_list\").\\\n",
    "             timeit(number=1000)/1000.0, 'usec/pass'\n",
    "# Now adding 400 names - nearly triple the time!\n",
    "print 'Time taken=>',1000000*timeit.Timer(\"add_random_namesl(name_list, 400)\", \n",
    "                                          setup=\"from __main__ import add_random_namesl, random_name, name_list\").\\\n",
    "             timeit(number=1000)/1000.0, 'usec/pass'\n",
    "\n",
    "# Slightly better than dictionaries!"
   ]
  },
  {
   "cell_type": "markdown",
   "metadata": {},
   "source": [
    "## What about Sets ?\n",
    "\n",
    "Let us see..."
   ]
  },
  {
   "cell_type": "code",
   "execution_count": 57,
   "metadata": {},
   "outputs": [
    {
     "name": "stdout",
     "output_type": "stream",
     "text": [
      "999942\n"
     ]
    }
   ],
   "source": [
    "# Initialize the name set\n",
    "name_set = {random_name() for i in range(1000000)}\n",
    "print len(name_set)"
   ]
  },
  {
   "cell_type": "code",
   "execution_count": 69,
   "metadata": {},
   "outputs": [
    {
     "ename": "TypeError",
     "evalue": "unhashable type: 'list'",
     "output_type": "error",
     "traceback": [
      "\u001b[0;31m---------------------------------------------------------------------------\u001b[0m",
      "\u001b[0;31mTypeError\u001b[0m                                 Traceback (most recent call last)",
      "\u001b[0;32m<ipython-input-69-0fc0ba6d35d8>\u001b[0m in \u001b[0;36m<module>\u001b[0;34m()\u001b[0m\n\u001b[0;32m----> 1\u001b[0;31m \u001b[0ms\u001b[0m\u001b[0;34m=\u001b[0m\u001b[0;34m{\u001b[0m\u001b[0;36m1\u001b[0m\u001b[0;34m,\u001b[0m\u001b[0;36m2\u001b[0m\u001b[0;34m,\u001b[0m\u001b[0;36m3\u001b[0m\u001b[0;34m,\u001b[0m\u001b[0;36m4\u001b[0m\u001b[0;34m,\u001b[0m\u001b[0;36m5\u001b[0m\u001b[0;34m,\u001b[0m \u001b[0;34m[\u001b[0m\u001b[0;34m]\u001b[0m\u001b[0;34m}\u001b[0m\u001b[0;34m\u001b[0m\u001b[0m\n\u001b[0m\u001b[1;32m      2\u001b[0m \u001b[0;32mprint\u001b[0m \u001b[0ms\u001b[0m\u001b[0;34m\u001b[0m\u001b[0m\n\u001b[1;32m      3\u001b[0m \u001b[0;34m\u001b[0m\u001b[0m\n\u001b[1;32m      4\u001b[0m \u001b[0;32mprint\u001b[0m \u001b[0ms\u001b[0m\u001b[0;34m[\u001b[0m\u001b[0;36m2\u001b[0m\u001b[0;34m]\u001b[0m\u001b[0;34m\u001b[0m\u001b[0m\n",
      "\u001b[0;31mTypeError\u001b[0m: unhashable type: 'list'"
     ]
    }
   ],
   "source": [
    "s={1,2,3,4,5, []}\n",
    "print s\n",
    "\n",
    "print s[2]"
   ]
  },
  {
   "cell_type": "code",
   "execution_count": 58,
   "metadata": {
    "collapsed": true
   },
   "outputs": [],
   "source": [
    "def lookup_set(name):\n",
    "    return name in name_set"
   ]
  },
  {
   "cell_type": "code",
   "execution_count": 66,
   "metadata": {},
   "outputs": [
    {
     "name": "stdout",
     "output_type": "stream",
     "text": [
      "Time taken=> 29.8459529877 usec/pass\n"
     ]
    }
   ],
   "source": [
    "# Now lookup random names\n",
    "# You can see that lookup is near constant time irrespective of size of the dictionary\n",
    "print 'Time taken=>',1000000*timeit.Timer(\"lookup_set(random_name())\", \n",
    "                                          setup=\"from __main__ import lookup_set, random_name\").\\\n",
    "             timeit(number=1000)/1000.0, 'usec/pass'\n",
    "# The set is very similar to dictionaries in lookup speed!"
   ]
  },
  {
   "cell_type": "code",
   "execution_count": 7,
   "metadata": {
    "collapsed": true
   },
   "outputs": [],
   "source": [
    "# Exercise\n",
    "# sub-sequnce from larger sequence of strings\n",
    "seq1 = ['madam', 'environment', 'wonderful', 'testament', 'joyless']\n",
    "seq2 = ['less', 'on', 'fine', 'take', 'adam', 'am', 'at']\n",
    "\n",
    "\n",
    "# Problem: Find strings in seq2 which are part of *any* string in seq1\n",
    "def sub_seq(seq1, seq2):\n",
    "    \n",
    "    results = []\n",
    "    \n",
    "    for each in seq2:\n",
    "        for item in seq1:\n",
    "            if each in item:\n",
    "                results.append(each)\n",
    "                break\n",
    "                \n",
    "    return results\n",
    "\n",
    "def slices(s, n):\n",
    "    return map(''.join, zip(*(s[i:] for i in range(n))))\n",
    "\n",
    "def sub_seq2(seq1, seq2):\n",
    "    \n",
    "    # Generate all sub-sequences of seq1\n",
    "    min_l, max_l = min(map(len, seq2)), max(map(len, seq2))\n",
    "    sequences = {}\n",
    "\n",
    "    results = []\n",
    "    for i in range(min_l, max_l+1):\n",
    "        for string in seq1:\n",
    "            sequences.update({}.fromkeys(slices(string, i)))\n",
    "    \n",
    "    # print sequences.keys()\n",
    "    \n",
    "    for i in seq2:\n",
    "        if i in sequences:\n",
    "            results.append(i)\n",
    "            \n",
    "    return results"
   ]
  },
  {
   "cell_type": "code",
   "execution_count": 2,
   "metadata": {},
   "outputs": [
    {
     "data": {
      "text/plain": [
       "['less', 'on', 'adam', 'am']"
      ]
     },
     "execution_count": 2,
     "metadata": {},
     "output_type": "execute_result"
    }
   ],
   "source": [
    "sub_seq2(seq1, seq2)"
   ]
  },
  {
   "cell_type": "code",
   "execution_count": 14,
   "metadata": {},
   "outputs": [
    {
     "name": "stdout",
     "output_type": "stream",
     "text": [
      "\n"
     ]
    }
   ],
   "source": [
    "import random\n",
    "import string\n",
    "\n",
    "seq1 = []\n",
    "seq2 = []\n",
    "def random_strings(n, N):\n",
    "    \"\"\" Create N random strings in range of 4..n and append\n",
    "    to global sequences seq1, seq2 \"\"\"\n",
    "    \n",
    "    global seq1, seq2\n",
    "    for i in range(N):\n",
    "        seq1.append(''.join(random.sample(string.ascii_lowercase,\n",
    "                             random.randrange(4, n))))\n",
    "\n",
    "    for i in range(N):\n",
    "        seq2.append(''.join(random.sample(string.ascii_lowercase,\n",
    "                             random.randrange(2, n/2))))    \n",
    "        \n",
    "def test(N):\n",
    "    random_strings(10, N)\n",
    "    subs=sub_seq(seq1, seq2)\n",
    "    \n",
    "def test2(N):\n",
    "    random_strings(10, N)\n",
    "    subs=sub_seq2(seq1, seq2)"
   ]
  },
  {
   "cell_type": "code",
   "execution_count": 15,
   "metadata": {},
   "outputs": [
    {
     "name": "stdout",
     "output_type": "stream",
     "text": [
      "Time taken=> 1518801.38159 usec/pass\n"
     ]
    }
   ],
   "source": [
    "import timeit\n",
    "\n",
    "print 'Time taken=>',1000000*timeit.Timer(\"test(100)\", \n",
    "             setup=\"from __main__ import test\").\\\n",
    "             timeit(number=100)/100.0, 'usec/pass'"
   ]
  },
  {
   "cell_type": "code",
   "execution_count": 67,
   "metadata": {
    "collapsed": true
   },
   "outputs": [],
   "source": [
    "\n",
    "def add_random_namess(name_set, num=100):\n",
    "    # Add 100 random names to existing set\n",
    "    for i in range(num):\n",
    "        name_set.add(random_name())"
   ]
  },
  {
   "cell_type": "code",
   "execution_count": 68,
   "metadata": {},
   "outputs": [
    {
     "name": "stdout",
     "output_type": "stream",
     "text": [
      "Time taken=> 1834.14196968 usec/pass\n",
      "Time taken=> 3800.32610893 usec/pass\n",
      "Time taken=> 5731.22310638 usec/pass\n",
      "Time taken=> 7083.35208893 usec/pass\n"
     ]
    }
   ],
   "source": [
    "# What about random additions of data ?\n",
    "# Now lets look at time taken for adding things to the list\n",
    "# Intialize the list to 1000000 names\n",
    "name_set = {random_name() for i in range(1000000)}\n",
    "\n",
    "print 'Time taken=>',1000000*timeit.Timer(\"add_random_namess(name_set)\", \n",
    "                                          setup=\"from __main__ import add_random_namess, random_name, name_set\").\\\n",
    "             timeit(number=1000)/1000.0, 'usec/pass'\n",
    "\n",
    "print 'Time taken=>',1000000*timeit.Timer(\"add_random_namess(name_set, 200)\", \n",
    "                                          setup=\"from __main__ import add_random_namess, random_name, name_set\").\\\n",
    "             timeit(number=1000)/1000.0, 'usec/pass'\n",
    "    \n",
    "print 'Time taken=>',1000000*timeit.Timer(\"add_random_namess(name_set, 300)\", \n",
    "                                          setup=\"from __main__ import add_random_namess, random_name, name_set\").\\\n",
    "             timeit(number=1000)/1000.0, 'usec/pass'\n",
    "    \n",
    "print 'Time taken=>',1000000*timeit.Timer(\"add_random_namess(name_set, 400)\", \n",
    "                                          setup=\"from __main__ import add_random_namess, random_name, name_set\").\\\n",
    "             timeit(number=1000)/1000.0, 'usec/pass'\n",
    "\n",
    "# Sets are similar to lists in efficiency w.r.t addition of random data!\n",
    "\n",
    "# So sets are similar to dictionaries in access and similar to lists in addition of data"
   ]
  }
 ],
 "metadata": {
  "kernelspec": {
   "display_name": "Python 2",
   "language": "python",
   "name": "python2"
  },
  "language_info": {
   "codemirror_mode": {
    "name": "ipython",
    "version": 2
   },
   "file_extension": ".py",
   "mimetype": "text/x-python",
   "name": "python",
   "nbconvert_exporter": "python",
   "pygments_lexer": "ipython2",
   "version": "2.7.12"
  }
 },
 "nbformat": 4,
 "nbformat_minor": 2
}
