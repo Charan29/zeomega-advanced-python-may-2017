{
 "cells": [
  {
   "cell_type": "code",
   "execution_count": 14,
   "metadata": {
    "collapsed": true
   },
   "outputs": [],
   "source": [
    "class Employee(object):\n",
    "    \"\"\" An Employee class \"\"\"\n",
    "    \n",
    "    # class variable\n",
    "    count = 0\n",
    "    \n",
    "    def __init__(self, name, age, gender):\n",
    "        self.name = name\n",
    "        self.age = age\n",
    "        self.gender = gender\n",
    "        \n",
    "    def __repr__(self):\n",
    "        return \"Employee<name=%s, age=%s, gender=%s>\" % (self.name,\n",
    "                                                         self.age,\n",
    "                                                         self.gender)\n",
    "        \n",
    "    def __new__(cls, *args):\n",
    "        cls.count += 1\n",
    "        return super(Employee, cls).__new__(cls, *args)\n",
    "        \n",
    "    def __del__(self):\n",
    "        print 'deleted',self\n",
    "        self.__class__.count -= 1"
   ]
  },
  {
   "cell_type": "code",
   "execution_count": 15,
   "metadata": {},
   "outputs": [
    {
     "name": "stdout",
     "output_type": "stream",
     "text": [
      "deleted Employee<name=Jessica, age=25, gender=F>\n",
      "Employee<name=Jessica, age=25, gender=F>\n",
      "deleted Employee<name=Madan, age=29, gender=M>\n",
      "Employee<name=Madan, age=29, gender=M>\n",
      "deleted Employee<name=Joseph, age=31, gender=M>\n",
      "Employee<name=Joseph, age=31, gender=M>\n"
     ]
    },
    {
     "name": "stderr",
     "output_type": "stream",
     "text": [
      "-c:19: DeprecationWarning: object() takes no parameters\n"
     ]
    }
   ],
   "source": [
    "jessica = Employee('Jessica', 25, 'F')\n",
    "print jessica\n",
    "madan = Employee('Madan', 29, 'M')\n",
    "print madan\n",
    "joseph = Employee('Joseph', 31, 'M')\n",
    "print joseph"
   ]
  },
  {
   "cell_type": "code",
   "execution_count": 16,
   "metadata": {},
   "outputs": [
    {
     "name": "stdout",
     "output_type": "stream",
     "text": [
      "3\n",
      "deleted Employee<name=Jessica, age=25, gender=F>\n",
      "2\n"
     ]
    }
   ],
   "source": [
    "print Employee.count\n",
    "del jessica\n",
    "print Employee.count"
   ]
  },
  {
   "cell_type": "markdown",
   "metadata": {},
   "source": [
    "#### Employee.count is a class variable. It exists in the class dictionary"
   ]
  },
  {
   "cell_type": "code",
   "execution_count": 17,
   "metadata": {},
   "outputs": [
    {
     "data": {
      "text/plain": [
       "dict_proxy({'__del__': <function __main__.__del__>,\n",
       "            '__dict__': <attribute '__dict__' of 'Employee' objects>,\n",
       "            '__doc__': ' An Employee class ',\n",
       "            '__init__': <function __main__.__init__>,\n",
       "            '__module__': '__main__',\n",
       "            '__new__': <staticmethod at 0x7fb0649f84b0>,\n",
       "            '__repr__': <function __main__.__repr__>,\n",
       "            '__weakref__': <attribute '__weakref__' of 'Employee' objects>,\n",
       "            'count': 2})"
      ]
     },
     "execution_count": 17,
     "metadata": {},
     "output_type": "execute_result"
    }
   ],
   "source": [
    "Employee.__dict__"
   ]
  },
  {
   "cell_type": "code",
   "execution_count": 21,
   "metadata": {},
   "outputs": [
    {
     "name": "stdout",
     "output_type": "stream",
     "text": [
      "(<class '__main__.Employee'>, <type 'object'>)\n"
     ]
    }
   ],
   "source": [
    "# Here is the instance dictionary\n",
    "joseph.__dict__\n",
    "print Employee.__mro__"
   ]
  },
  {
   "cell_type": "code",
   "execution_count": 23,
   "metadata": {},
   "outputs": [
    {
     "name": "stdout",
     "output_type": "stream",
     "text": [
      "(<class '__main__.C'>, <class '__main__.A'>, <class '__main__.B'>, <type 'object'>)\n"
     ]
    }
   ],
   "source": [
    "class A(object):\n",
    "    pass\n",
    "\n",
    "class B(object):\n",
    "    pass\n",
    "\n",
    "class C(A,B):\n",
    "    pass\n",
    "\n",
    "print C.__mro__"
   ]
  },
  {
   "cell_type": "markdown",
   "metadata": {},
   "source": [
    "### Class Methods"
   ]
  },
  {
   "cell_type": "markdown",
   "metadata": {},
   "source": [
    "1. A class method exists on the class.\n",
    "2. It is decorated by @classmethod.\n",
    "3. Just like an instance method takes a reference to self as the explicit argument, a classmethod takes a reference to class. Usually indicated as \"cls\".\n",
    "4. In the following class, **______new______** and **get_count** are the two class methods."
   ]
  },
  {
   "cell_type": "code",
   "execution_count": 42,
   "metadata": {
    "collapsed": true
   },
   "outputs": [],
   "source": [
    "class Employee(object):\n",
    "    \"\"\" An Employee class \"\"\"\n",
    "    \n",
    "    count = 0\n",
    "    \n",
    "    def __init__(self, name, age, gender):\n",
    "        self.name = name\n",
    "        self.age = age\n",
    "        self.gender = gender\n",
    "        \n",
    "    def __repr__(self):\n",
    "        return \"Employee<name=%s, age=%s, gender=%s>\" % (self.name,\n",
    "                                                         self.age,\n",
    "                                                         self.gender)\n",
    "        \n",
    "    def __new__(cls, *args):\n",
    "        cls.count += 1\n",
    "        return super(Employee, cls).__new__(cls, *args)\n",
    "        \n",
    "    @classmethod\n",
    "    def get_count(cls):\n",
    "        print 'Called on',cls\n",
    "        return cls.count\n",
    "    \n",
    "    # DONT EVER DO THIS!\n",
    "    #def set_count(self, val=10):\n",
    "    #    self.count=10"
   ]
  },
  {
   "cell_type": "code",
   "execution_count": 43,
   "metadata": {},
   "outputs": [
    {
     "name": "stdout",
     "output_type": "stream",
     "text": [
      "Called on <class '__main__.Employee'>\n",
      "0\n"
     ]
    }
   ],
   "source": [
    "print Employee.get_count()"
   ]
  },
  {
   "cell_type": "code",
   "execution_count": 44,
   "metadata": {},
   "outputs": [
    {
     "name": "stdout",
     "output_type": "stream",
     "text": [
      "Employee<name=Jessica, age=25, gender=F>\n"
     ]
    },
    {
     "name": "stderr",
     "output_type": "stream",
     "text": [
      "-c:18: DeprecationWarning: object() takes no parameters\n"
     ]
    }
   ],
   "source": [
    "jessica = Employee('Jessica', 25, 'F')\n",
    "print jessica"
   ]
  },
  {
   "cell_type": "code",
   "execution_count": 46,
   "metadata": {},
   "outputs": [
    {
     "name": "stdout",
     "output_type": "stream",
     "text": [
      "get_count called on class=> Called on <class '__main__.Employee'>\n",
      "1\n",
      "get_count called on instance=> Called on <class '__main__.Employee'>\n",
      "1\n"
     ]
    }
   ],
   "source": [
    "print 'get_count called on class=>',Employee.get_count()\n",
    "# A class method can be called on the instance but the call still\n",
    "# gets directed to the class\n",
    "print 'get_count called on instance=>',jessica.get_count()\n"
   ]
  },
  {
   "cell_type": "markdown",
   "metadata": {},
   "source": [
    "### Static Methods"
   ]
  },
  {
   "cell_type": "markdown",
   "metadata": {},
   "source": [
    "1. A static method is like an outside function sitting inside a class.\n",
    "2. It cannot access any property using the class or instance dictionary.\n",
    "3. It can acces only properties via the class namespace.\n",
    "4. A static method takes no explicit first argument."
   ]
  },
  {
   "cell_type": "code",
   "execution_count": 53,
   "metadata": {
    "collapsed": true
   },
   "outputs": [],
   "source": [
    "class Employee(object):\n",
    "    \"\"\" An Employee class \"\"\"\n",
    "    \n",
    "    count = 0\n",
    "    contract = 'full time'\n",
    "\n",
    "    def __init__(self, name, age, gender):\n",
    "        self.name = name\n",
    "        self.age = age\n",
    "        self.gender = gender\n",
    "        \n",
    "    def __repr__(self):\n",
    "        return \"Employee<name=%s, age=%s, gender=%s>\" % (self.name,\n",
    "                                                         self.age,\n",
    "                                                         self.gender)\n",
    "        \n",
    "    def __new__(cls, *args):\n",
    "        cls.count += 1\n",
    "        return super(Employee, cls).__new__(cls, *args)\n",
    "        \n",
    "    @classmethod\n",
    "    def get_count(cls):\n",
    "        print 'Called on',cls\n",
    "        return cls.count\n",
    "    \n",
    "    @staticmethod\n",
    "    def get_contract():\n",
    "        return Employee.contract"
   ]
  },
  {
   "cell_type": "code",
   "execution_count": 54,
   "metadata": {},
   "outputs": [
    {
     "name": "stdout",
     "output_type": "stream",
     "text": [
      "Called on <class '__main__.Employee'>\n",
      "0\n",
      "full time\n"
     ]
    }
   ],
   "source": [
    "print Employee.get_count()\n",
    "print Employee.get_contract()"
   ]
  },
  {
   "cell_type": "markdown",
   "metadata": {},
   "source": [
    "#### An instance method is like an outside function accepting an instance of the class\n"
   ]
  },
  {
   "cell_type": "code",
   "execution_count": 55,
   "metadata": {
    "collapsed": true
   },
   "outputs": [],
   "source": [
    "def get_gender(employee):\n",
    "    return employee.gender"
   ]
  },
  {
   "cell_type": "code",
   "execution_count": 56,
   "metadata": {},
   "outputs": [
    {
     "name": "stdout",
     "output_type": "stream",
     "text": [
      "F\n"
     ]
    }
   ],
   "source": [
    "print get_gender(jessica)"
   ]
  },
  {
   "cell_type": "code",
   "execution_count": 57,
   "metadata": {
    "collapsed": true
   },
   "outputs": [],
   "source": [
    "Employee.get_gender = get_gender"
   ]
  },
  {
   "cell_type": "code",
   "execution_count": 58,
   "metadata": {},
   "outputs": [
    {
     "name": "stdout",
     "output_type": "stream",
     "text": [
      "Employee<name=Jessica, age=25, gender=F>\n",
      "F\n"
     ]
    },
    {
     "name": "stderr",
     "output_type": "stream",
     "text": [
      "-c:19: DeprecationWarning: object() takes no parameters\n"
     ]
    }
   ],
   "source": [
    "# Now!\n",
    "jessica = Employee('Jessica', 25, 'F')\n",
    "print jessica\n",
    "print jessica.get_gender()"
   ]
  },
  {
   "cell_type": "code",
   "execution_count": 60,
   "metadata": {
    "collapsed": true
   },
   "outputs": [],
   "source": [
    "#### A classmethod is like a function outside the class \n",
    "# accepting the class\n",
    "def is_large_department(cls):\n",
    "    return cls.get_count()>50\n",
    "        "
   ]
  },
  {
   "cell_type": "code",
   "execution_count": 61,
   "metadata": {
    "collapsed": true
   },
   "outputs": [],
   "source": [
    "Employee.is_large_department = classmethod(is_large_department)"
   ]
  },
  {
   "cell_type": "code",
   "execution_count": 62,
   "metadata": {},
   "outputs": [
    {
     "name": "stdout",
     "output_type": "stream",
     "text": [
      "Called on <class '__main__.Employee'>\n",
      "False\n"
     ]
    }
   ],
   "source": [
    "# Now !\n",
    "print Employee.is_large_department()"
   ]
  },
  {
   "cell_type": "code",
   "execution_count": 64,
   "metadata": {
    "collapsed": true
   },
   "outputs": [],
   "source": [
    "def get_contract():\n",
    "    return Employee.contract"
   ]
  },
  {
   "cell_type": "code",
   "execution_count": 65,
   "metadata": {
    "collapsed": true
   },
   "outputs": [],
   "source": [
    "Employee.get_contract = staticmethod(get_contract)"
   ]
  },
  {
   "cell_type": "code",
   "execution_count": 66,
   "metadata": {},
   "outputs": [
    {
     "name": "stdout",
     "output_type": "stream",
     "text": [
      "full time\n"
     ]
    }
   ],
   "source": [
    "print Employee.get_contract()"
   ]
  },
  {
   "cell_type": "markdown",
   "metadata": {},
   "source": [
    "### Properties"
   ]
  },
  {
   "cell_type": "markdown",
   "metadata": {},
   "source": [
    "1. Properties are derived attributes of a class.\n",
    "2. A property has a getter and a setter which are methods in the class,\n",
    "3. getters and setters are decorators.\n"
   ]
  },
  {
   "cell_type": "code",
   "execution_count": 73,
   "metadata": {
    "collapsed": true
   },
   "outputs": [],
   "source": [
    "class Employee(object):\n",
    "    \"\"\" An Employee class \"\"\"\n",
    "    \n",
    "    count = 0\n",
    "    contract = 'full time'\n",
    "\n",
    "    def __init__(self, name, age, gender, role, team=None):\n",
    "        self.name = name\n",
    "        self.age = age\n",
    "        self.gender = gender\n",
    "        # Role of the employee\n",
    "        self.role = role\n",
    "        # team of the employee\n",
    "        self.team = team\n",
    "        \n",
    "    def __repr__(self):\n",
    "        return \"Employee<name=%s, age=%s, gender=%s>\" % (self.name,\n",
    "                                                         self.age,\n",
    "                                                         self.gender)\n",
    "        \n",
    "    def __new__(cls, *args):\n",
    "        cls.count += 1\n",
    "        return super(Employee, cls).__new__(cls, *args)\n",
    "       \n",
    "    @property\n",
    "    def is_dba(self):\n",
    "        \"\"\" Return the team size of the team under this employee \"\"\"\n",
    "        \n",
    "        return self.role.lower() == 'administrator' and \\\n",
    "               self.team != None and self.team == 'database'\n",
    "        \n",
    "    @is_dba.setter\n",
    "    def is_dba(self, value):\n",
    "        print 'Setting',self,'as DBA',value\n",
    "        self.team = 'database'\n",
    "        self.role = 'administrator'\n",
    "        \n",
    "    @classmethod\n",
    "    def get_count(cls):\n",
    "        print 'Called on',cls\n",
    "        return cls.count\n",
    "    \n",
    "    @staticmethod\n",
    "    def get_contract():\n",
    "        return Employee.contract\n",
    "    \n",
    "    "
   ]
  },
  {
   "cell_type": "code",
   "execution_count": 74,
   "metadata": {},
   "outputs": [
    {
     "name": "stdout",
     "output_type": "stream",
     "text": [
      "Employee<name=Madan, age=29, gender=M>\n",
      "Employee<name=Kiran, age=32, gender=F>\n"
     ]
    },
    {
     "name": "stderr",
     "output_type": "stream",
     "text": [
      "-c:23: DeprecationWarning: object() takes no parameters\n"
     ]
    }
   ],
   "source": [
    "madan = Employee('Madan', 29, 'M', 'developer')\n",
    "print madan\n",
    "kiran = Employee('Kiran', 32, 'F', 'administrator')\n",
    "print kiran"
   ]
  },
  {
   "cell_type": "code",
   "execution_count": 69,
   "metadata": {},
   "outputs": [
    {
     "name": "stdout",
     "output_type": "stream",
     "text": [
      "False\n"
     ]
    }
   ],
   "source": [
    "print kiran.is_dba"
   ]
  },
  {
   "cell_type": "code",
   "execution_count": 76,
   "metadata": {},
   "outputs": [
    {
     "name": "stdout",
     "output_type": "stream",
     "text": [
      "True\n"
     ]
    }
   ],
   "source": [
    "kiran.team = 'database'\n",
    "print kiran.is_dba"
   ]
  },
  {
   "cell_type": "code",
   "execution_count": 77,
   "metadata": {},
   "outputs": [
    {
     "name": "stdout",
     "output_type": "stream",
     "text": [
      "False\n"
     ]
    }
   ],
   "source": [
    "print madan.is_dba"
   ]
  },
  {
   "cell_type": "code",
   "execution_count": 78,
   "metadata": {},
   "outputs": [
    {
     "name": "stdout",
     "output_type": "stream",
     "text": [
      "Setting Employee<name=Madan, age=29, gender=M> as DBA xyz\n",
      "True\n"
     ]
    }
   ],
   "source": [
    "madan.is_dba = 'xyz'\n",
    "print madan.is_dba"
   ]
  },
  {
   "cell_type": "markdown",
   "metadata": {},
   "source": [
    "### Read-only properties"
   ]
  },
  {
   "cell_type": "code",
   "execution_count": 91,
   "metadata": {
    "collapsed": true
   },
   "outputs": [],
   "source": [
    "class Employee(object):\n",
    "    \"\"\" An Employee class \"\"\"\n",
    "    \n",
    "    count = 0\n",
    "    contract = 'full time'\n",
    "\n",
    "    def __init__(self, name, age, gender, role, team=None):\n",
    "        self.name = name\n",
    "        self.age = age\n",
    "        self.gender = gender\n",
    "        # Role of the employee\n",
    "        self.role = role\n",
    "        # team of the employee\n",
    "        self.team = team\n",
    "        # Reportees reporting to the employee as manager\n",
    "        self._reportees = []\n",
    "        \n",
    "    def __repr__(self):\n",
    "        return \"Employee<name=%s, age=%s, gender=%s>\" % (self.name,\n",
    "                                                         self.age,\n",
    "                                                         self.gender)\n",
    "        \n",
    "    def __new__(cls, *args):\n",
    "        cls.count += 1\n",
    "        return super(Employee, cls).__new__(cls, *args)\n",
    "       \n",
    "    def add_reportee(self, employee):\n",
    "        \"\"\" Add a reportee to this employee \"\"\"\n",
    "        self._reportees.append(employee)\n",
    "        \n",
    "    @property\n",
    "    def is_dba(self):\n",
    "        \"\"\" Return the team size of the team under this employee \"\"\"\n",
    "        \n",
    "        return self.role.lower() == 'administrator' and \\\n",
    "               self.team != None and self.team == 'database'\n",
    "        \n",
    "    @is_dba.setter\n",
    "    def is_dba(self, value):\n",
    "        print 'Setting',self,'as DBA'\n",
    "        self.team = 'database'\n",
    "        self.role = 'administrator'\n",
    "        \n",
    "    @property\n",
    "    def is_manager(self):\n",
    "        return len(self._reportees)>0\n",
    "    \n",
    "    @property\n",
    "    def team_size(self):\n",
    "        return len(self._reportees)\n",
    "    \n",
    "    @classmethod\n",
    "    def get_count(cls):\n",
    "        print 'Called on',cls\n",
    "        return cls.count\n",
    "    \n",
    "    @staticmethod\n",
    "    def get_contract():\n",
    "        return Employee.contract\n",
    "    \n",
    "    "
   ]
  },
  {
   "cell_type": "code",
   "execution_count": 92,
   "metadata": {},
   "outputs": [
    {
     "name": "stdout",
     "output_type": "stream",
     "text": [
      "Employee<name=Jessica, age=35, gender=F>\n",
      "Employee<name=Madan, age=29, gender=M>\n",
      "Employee<name=Joseph, age=31, gender=M>\n",
      "Employee<name=Kiran, age=32, gender=F>\n"
     ]
    },
    {
     "name": "stderr",
     "output_type": "stream",
     "text": [
      "-c:25: DeprecationWarning: object() takes no parameters\n"
     ]
    }
   ],
   "source": [
    "jessica = Employee('Jessica', 35, 'F', 'manager')\n",
    "print jessica\n",
    "\n",
    "madan = Employee('Madan', 29, 'M', 'developer')\n",
    "print madan\n",
    "joseph = Employee('Joseph', 31, 'M', 'UI developer')\n",
    "print joseph\n",
    "kiran = Employee('Kiran', 32, 'F', 'administrator')\n",
    "print kiran\n"
   ]
  },
  {
   "cell_type": "code",
   "execution_count": 83,
   "metadata": {},
   "outputs": [
    {
     "name": "stdout",
     "output_type": "stream",
     "text": [
      "False\n"
     ]
    }
   ],
   "source": [
    "print jessica.is_manager"
   ]
  },
  {
   "cell_type": "code",
   "execution_count": 84,
   "metadata": {
    "collapsed": true
   },
   "outputs": [],
   "source": [
    "# Let us make jessica actually a manager!\n",
    "jessica.add_reportee(kiran)\n",
    "jessica.add_reportee(joseph)\n",
    "jessica.add_reportee(madan)"
   ]
  },
  {
   "cell_type": "code",
   "execution_count": 85,
   "metadata": {},
   "outputs": [
    {
     "data": {
      "text/plain": [
       "True"
      ]
     },
     "execution_count": 85,
     "metadata": {},
     "output_type": "execute_result"
    }
   ],
   "source": [
    "jessica.is_manager"
   ]
  },
  {
   "cell_type": "code",
   "execution_count": 86,
   "metadata": {},
   "outputs": [
    {
     "ename": "AttributeError",
     "evalue": "can't set attribute",
     "output_type": "error",
     "traceback": [
      "\u001b[0;31m---------------------------------------------------------------------------\u001b[0m",
      "\u001b[0;31mAttributeError\u001b[0m                            Traceback (most recent call last)",
      "\u001b[0;32m<ipython-input-86-60bb2ddf32fb>\u001b[0m in \u001b[0;36m<module>\u001b[0;34m()\u001b[0m\n\u001b[1;32m      1\u001b[0m \u001b[0;31m# Make is_manager a property - but we cannot set it\u001b[0m\u001b[0;34m\u001b[0m\u001b[0;34m\u001b[0m\u001b[0m\n\u001b[0;32m----> 2\u001b[0;31m \u001b[0mjessica\u001b[0m\u001b[0;34m.\u001b[0m\u001b[0mis_manager\u001b[0m \u001b[0;34m=\u001b[0m \u001b[0mFalse\u001b[0m\u001b[0;34m\u001b[0m\u001b[0m\n\u001b[0m",
      "\u001b[0;31mAttributeError\u001b[0m: can't set attribute"
     ]
    }
   ],
   "source": [
    "# Make is_manager a property - but we cannot set it\n",
    "jessica.is_manager = False"
   ]
  },
  {
   "cell_type": "code",
   "execution_count": 87,
   "metadata": {},
   "outputs": [
    {
     "name": "stdout",
     "output_type": "stream",
     "text": [
      "3\n"
     ]
    },
    {
     "ename": "AttributeError",
     "evalue": "can't set attribute",
     "output_type": "error",
     "traceback": [
      "\u001b[0;31m---------------------------------------------------------------------------\u001b[0m",
      "\u001b[0;31mAttributeError\u001b[0m                            Traceback (most recent call last)",
      "\u001b[0;32m<ipython-input-87-f9fbcd0c5e48>\u001b[0m in \u001b[0;36m<module>\u001b[0;34m()\u001b[0m\n\u001b[1;32m      2\u001b[0m \u001b[0;32mprint\u001b[0m \u001b[0mjessica\u001b[0m\u001b[0;34m.\u001b[0m\u001b[0mteam_size\u001b[0m\u001b[0;34m\u001b[0m\u001b[0m\n\u001b[1;32m      3\u001b[0m \u001b[0;31m# Cant set it\u001b[0m\u001b[0;34m\u001b[0m\u001b[0;34m\u001b[0m\u001b[0m\n\u001b[0;32m----> 4\u001b[0;31m \u001b[0mjessica\u001b[0m\u001b[0;34m.\u001b[0m\u001b[0mteam_size\u001b[0m \u001b[0;34m=\u001b[0m \u001b[0;36m10\u001b[0m\u001b[0;34m\u001b[0m\u001b[0m\n\u001b[0m",
      "\u001b[0;31mAttributeError\u001b[0m: can't set attribute"
     ]
    }
   ],
   "source": [
    "# Similarly team size\n",
    "print jessica.team_size\n",
    "# Cant set it\n",
    "jessica.team_size = 10"
   ]
  },
  {
   "cell_type": "code",
   "execution_count": 94,
   "metadata": {},
   "outputs": [
    {
     "name": "stdout",
     "output_type": "stream",
     "text": [
      "{'name': 'Jessica', 'gender': 'F', 'age': 35, '_reportees': [], 'role': 'manager', 'team': None, 'is_south_indian': False}\n"
     ]
    }
   ],
   "source": [
    "jessica.is_south_indian=False\n",
    "print jessica.__dict__"
   ]
  },
  {
   "cell_type": "markdown",
   "metadata": {},
   "source": [
    "### Optimizing classes - using ______slots______"
   ]
  },
  {
   "cell_type": "code",
   "execution_count": 95,
   "metadata": {
    "collapsed": true
   },
   "outputs": [],
   "source": [
    "class Employee(object):\n",
    "    \"\"\" An Employee class \"\"\"\n",
    "    \n",
    "    count = 0\n",
    "    contract = 'full time'\n",
    "    __slots__ = ['name', 'age', 'gender', 'role', '_reportees',\n",
    "                 'team_size', 'is_manager', 'team']\n",
    "    def __init__(self, name, age, gender, role, team=None):\n",
    "        self.name = name\n",
    "        self.age = age\n",
    "        self.gender = gender\n",
    "        # Role of the employee\n",
    "        self.role = role\n",
    "        # team of the employee\n",
    "        self.team = team\n",
    "        # Reportees reporting to the employee as manager\n",
    "        self._reportees = []\n",
    "        \n",
    "    def __repr__(self):\n",
    "        return \"Employee<name=%s, age=%s, gender=%s>\" % (self.name,\n",
    "                                                         self.age,\n",
    "                                                         self.gender)\n",
    "        \n",
    "    def __new__(cls, *args):\n",
    "        cls.count += 1\n",
    "        return super(Employee, cls).__new__(cls, *args)\n",
    "       \n",
    "    def add_reportee(self, employee):\n",
    "        \"\"\" Add a reportee to this employee \"\"\"\n",
    "        self._reportees.append(employee)\n",
    "        \n",
    "    @property\n",
    "    def is_dba(self):\n",
    "        \"\"\" Return the team size of the team under this employee \"\"\"\n",
    "        \n",
    "        return self.role.lower() == 'administrator' and \\\n",
    "               self.team != None and self.team == 'database'\n",
    "        \n",
    "    @is_dba.setter\n",
    "    def is_dba(self, value):\n",
    "        print 'Setting',self,'as DBA'\n",
    "        self.team = 'database'\n",
    "        self.role = 'administrator'\n",
    "        \n",
    "    # @property\n",
    "    def is_manager(self):\n",
    "        return len(self._reportees)>0\n",
    "    \n",
    "    @property\n",
    "    def team_size(self):\n",
    "        return len(self._reportees)\n",
    "    \n",
    "    @classmethod\n",
    "    def get_count(cls):\n",
    "        print 'Called on',cls\n",
    "        return cls.count\n",
    "    \n",
    "    @staticmethod\n",
    "    def get_contract():\n",
    "        return Employee.contract\n",
    "    \n",
    "    "
   ]
  },
  {
   "cell_type": "code",
   "execution_count": 96,
   "metadata": {},
   "outputs": [
    {
     "name": "stdout",
     "output_type": "stream",
     "text": [
      "Employee<name=Jessica, age=35, gender=F>\n",
      "Employee<name=Madan, age=29, gender=M>\n",
      "Employee<name=Joseph, age=31, gender=M>\n",
      "Employee<name=Kiran, age=32, gender=F>\n"
     ]
    },
    {
     "name": "stderr",
     "output_type": "stream",
     "text": [
      "-c:26: DeprecationWarning: object() takes no parameters\n"
     ]
    }
   ],
   "source": [
    "jessica = Employee('Jessica', 35, 'F', 'manager')\n",
    "print jessica\n",
    "\n",
    "madan = Employee('Madan', 29, 'M', 'developer')\n",
    "print madan\n",
    "joseph = Employee('Joseph', 31, 'M', 'UI developer')\n",
    "print joseph\n",
    "kiran = Employee('Kiran', 32, 'F', 'administrator')\n",
    "print kiran\n"
   ]
  },
  {
   "cell_type": "code",
   "execution_count": 90,
   "metadata": {},
   "outputs": [
    {
     "name": "stdout",
     "output_type": "stream",
     "text": [
      "Called on <class '__main__.Employee'>\n",
      "4\n"
     ]
    }
   ],
   "source": [
    "print Employee.get_count()"
   ]
  },
  {
   "cell_type": "code",
   "execution_count": 97,
   "metadata": {},
   "outputs": [
    {
     "ename": "AttributeError",
     "evalue": "'Employee' object has no attribute 'is_south_indian'",
     "output_type": "error",
     "traceback": [
      "\u001b[0;31m---------------------------------------------------------------------------\u001b[0m",
      "\u001b[0;31mAttributeError\u001b[0m                            Traceback (most recent call last)",
      "\u001b[0;32m<ipython-input-97-0241f66f46f2>\u001b[0m in \u001b[0;36m<module>\u001b[0;34m()\u001b[0m\n\u001b[1;32m      1\u001b[0m \u001b[0;31m# Try adding a dynamic property\u001b[0m\u001b[0;34m\u001b[0m\u001b[0;34m\u001b[0m\u001b[0m\n\u001b[0;32m----> 2\u001b[0;31m \u001b[0mkiran\u001b[0m\u001b[0;34m.\u001b[0m\u001b[0mis_south_indian\u001b[0m \u001b[0;34m=\u001b[0m \u001b[0mTrue\u001b[0m\u001b[0;34m\u001b[0m\u001b[0m\n\u001b[0m",
      "\u001b[0;31mAttributeError\u001b[0m: 'Employee' object has no attribute 'is_south_indian'"
     ]
    }
   ],
   "source": [
    "# Try adding a dynamic property\n",
    "kiran.is_south_indian = True"
   ]
  },
  {
   "cell_type": "code",
   "execution_count": 98,
   "metadata": {},
   "outputs": [
    {
     "ename": "AttributeError",
     "evalue": "'Employee' object has no attribute '__dict__'",
     "output_type": "error",
     "traceback": [
      "\u001b[0;31m---------------------------------------------------------------------------\u001b[0m",
      "\u001b[0;31mAttributeError\u001b[0m                            Traceback (most recent call last)",
      "\u001b[0;32m<ipython-input-98-1e2c3c8524ec>\u001b[0m in \u001b[0;36m<module>\u001b[0;34m()\u001b[0m\n\u001b[1;32m      1\u001b[0m \u001b[0;31m# A class with __slots__ looses instance level dictionaries!\u001b[0m\u001b[0;34m\u001b[0m\u001b[0;34m\u001b[0m\u001b[0m\n\u001b[0;32m----> 2\u001b[0;31m \u001b[0;32mprint\u001b[0m \u001b[0mkiran\u001b[0m\u001b[0;34m.\u001b[0m\u001b[0m__dict__\u001b[0m\u001b[0;34m\u001b[0m\u001b[0m\n\u001b[0m",
      "\u001b[0;31mAttributeError\u001b[0m: 'Employee' object has no attribute '__dict__'"
     ]
    }
   ],
   "source": [
    "# A class with __slots__ looses instance level dictionaries!\n",
    "print kiran.__dict__"
   ]
  },
  {
   "cell_type": "markdown",
   "metadata": {},
   "source": [
    "### Design Patterns"
   ]
  },
  {
   "cell_type": "markdown",
   "metadata": {},
   "source": [
    "#### Singletons\n",
    "1. A singleton class can have only one instance.\n",
    "2. Any number of calls to the class's constructor returns just this single instance.\n",
    "3. Child classes should be also supporting this behavior."
   ]
  },
  {
   "cell_type": "code",
   "execution_count": 102,
   "metadata": {},
   "outputs": [
    {
     "name": "stdout",
     "output_type": "stream",
     "text": [
      "=>Creating single instance<=\n",
      "<__main__.A object at 0x7fb06497a0d0>\n",
      "<__main__.A object at 0x7fb06497a0d0>\n",
      "True\n"
     ]
    }
   ],
   "source": [
    "a1 = A()\n",
    "a2 = A()\n",
    "\n",
    "print a1\n",
    "print a2\n",
    "print a1 == a2"
   ]
  },
  {
   "cell_type": "code",
   "execution_count": 101,
   "metadata": {
    "collapsed": true
   },
   "outputs": [],
   "source": [
    "class A(Singleton):\n",
    "    pass"
   ]
  },
  {
   "cell_type": "code",
   "execution_count": 113,
   "metadata": {},
   "outputs": [
    {
     "name": "stdout",
     "output_type": "stream",
     "text": [
      "True\n",
      "True\n",
      "<class '__main__.A'>\n",
      "<class '__main__.A'>\n",
      "<type 'type'>\n",
      "True\n",
      "True\n",
      "<type 'type'>\n",
      "<type 'type'>\n"
     ]
    }
   ],
   "source": [
    "print isinstance(a1, A)\n",
    "print issubclass(A, Singleton)\n",
    "print a1.__class__\n",
    "print type(a1)\n",
    "print type(A)\n",
    "print isinstance(Singleton, object)\n",
    "print issubclass(Singleton, object)\n",
    "print type(object)\n",
    "print type(type)"
   ]
  },
  {
   "cell_type": "code",
   "execution_count": 100,
   "metadata": {
    "collapsed": true
   },
   "outputs": [],
   "source": [
    "class Singleton(object):\n",
    "    \"\"\" A Singleton class \"\"\"\n",
    "    \n",
    "    instance = None\n",
    "    \n",
    "    def __new__(cls, *args):\n",
    "        if cls.instance == None:\n",
    "            print '=>Creating single instance<='\n",
    "            cls.instance = object.__new__(cls)\n",
    "        return cls.instance"
   ]
  },
  {
   "cell_type": "code",
   "execution_count": 114,
   "metadata": {
    "collapsed": true
   },
   "outputs": [],
   "source": [
    "### Meta-classes\n",
    "\n",
    "class MetaSingleton(type):\n",
    "    \"\"\" A type for Singleton classes (overrides __call__) \"\"\"    \n",
    "\n",
    "    def __init__(cls, *args):\n",
    "        print(cls,\"__init__ method called with args\", args)\n",
    "        type.__init__(cls, *args)\n",
    "        cls.instance = None\n",
    "\n",
    "    def __call__(cls, *args, **kwargs):\n",
    "        # Overridden __call__ on the metaclass\n",
    "        if not cls.instance:\n",
    "            print(cls,\"creating instance\", args, kwargs)\n",
    "            cls.instance = type.__call__(cls, *args, **kwargs)\n",
    "        return cls.instance"
   ]
  },
  {
   "cell_type": "code",
   "execution_count": 116,
   "metadata": {},
   "outputs": [
    {
     "name": "stdout",
     "output_type": "stream",
     "text": [
      "(<class '__main__.MSingleton'>, '__init__ method called with args', ('MSingleton', (<type 'object'>,), {'__module__': '__main__', '__metaclass__': <class '__main__.MetaSingleton'>}))\n",
      "(<class '__main__.B'>, '__init__ method called with args', ('B', (<class '__main__.MSingleton'>,), {'__module__': '__main__'}))\n",
      "(<class '__main__.B'>, 'creating instance', (), {})\n"
     ]
    }
   ],
   "source": [
    "### Singleton using meta-class\n",
    "class MSingleton(object):\n",
    "    __metaclass__ = MetaSingleton\n",
    "    \n",
    "class B(MSingleton):\n",
    "    pass\n",
    "\n",
    "b1 = B()\n",
    "#b2 = B()\n",
    "\n",
    "#print b1 == b2"
   ]
  },
  {
   "cell_type": "markdown",
   "metadata": {},
   "source": [
    "### Wrappers (Object Adapter)\n",
    "1. A wrapper pattern contains an instance inside another class.\n",
    "2. It proxies (forwards) methods from the containing class to the contained class.\n",
    "3. Useful for implementing larger patterns like Adapter, Proxy etc."
   ]
  },
  {
   "cell_type": "code",
   "execution_count": 117,
   "metadata": {
    "collapsed": true
   },
   "outputs": [],
   "source": [
    "class Polygon(object):\n",
    "    \"\"\" A polygon class \"\"\"\n",
    "    \n",
    "    def __init__(self, *sides):\n",
    "        \"\"\" Initializer - accepts length of sides \"\"\"\n",
    "        self.sides = sides\n",
    "        \n",
    "    def perimeter(self):\n",
    "        \"\"\" Return perimeter \"\"\"\n",
    "        \n",
    "        return sum(self.sides)\n",
    "    \n",
    "    def is_valid(self):\n",
    "        \"\"\" Is this a valid polygon \"\"\"\n",
    "        \n",
    "        # Do some complex stuff - not implemented in base class\n",
    "        raise NotImplementedError\n",
    "    \n",
    "    def is_regular(self):\n",
    "        \"\"\" Is a regular polygon ? \"\"\"\n",
    "        \n",
    "        # Yes: if all sides are equal\n",
    "        side = self.sides[0]\n",
    "        return all([x==side for x in self.sides[1:]])\n",
    "    \n",
    "    def area(self):\n",
    "        \"\"\" Calculate and return area \"\"\"\n",
    "        \n",
    "        # Not implemented in base class\n",
    "        raise NotImplementedError"
   ]
  },
  {
   "cell_type": "code",
   "execution_count": 118,
   "metadata": {
    "collapsed": true
   },
   "outputs": [],
   "source": [
    "import itertools\n",
    "\n",
    "class Triangle(object):\n",
    "    \"\"\" Triangle class from Polygon using class adapter \"\"\"\n",
    "\n",
    "    def __init__(self, *sides):\n",
    "        # Compose a polygon\n",
    "        self.polygon = Polygon(*sides)\n",
    "\n",
    "    def perimeter(self):\n",
    "        return self.polygon.perimeter()\n",
    "    \n",
    "    def is_valid(f):\n",
    "        \"\"\" Is the triangle valid \"\"\"\n",
    "\n",
    "        def inner(self, *args):\n",
    "            # Sum of 2 sides should be > 3rd side\n",
    "            perimeter = self.polygon.perimeter()\n",
    "            sides = self.polygon.sides\n",
    "            \n",
    "            for side in sides:\n",
    "                sum_two = perimeter - side\n",
    "                if sum_two <= side:\n",
    "                    raise InvalidPolygonError(str(self.__class__) + \"is invalid!\")\n",
    "\n",
    "            result = f(self, *args)\n",
    "            return result\n",
    "        \n",
    "        return inner\n",
    "\n",
    "    @is_valid\n",
    "    def is_equilateral(self):\n",
    "        \"\"\" Is this equilateral triangle ? \"\"\"\n",
    "        \n",
    "        return self.polygon.is_regular()\n",
    "\n",
    "    @is_valid\n",
    "    def is_isosceles(self):\n",
    "        \"\"\" Is the triangle isoscles \"\"\"\n",
    "        \n",
    "        # Check if any 2 sides are equal\n",
    "        for a,b in itertools.combinations(self.polygon.sides, 2):\n",
    "            if a == b:\n",
    "                return True\n",
    "        return False\n",
    "    \n",
    "    def area(self):\n",
    "        \"\"\" Calculate area \"\"\"\n",
    "        \n",
    "        # Using Heron's formula\n",
    "        p = self.polygon.perimeter()/2.0\n",
    "        total = p\n",
    "        for side in self.polygon.sides:\n",
    "            total *= abs(p-side)\n",
    "            \n",
    "        return pow(total, 0.5)"
   ]
  },
  {
   "cell_type": "code",
   "execution_count": 119,
   "metadata": {},
   "outputs": [
    {
     "name": "stdout",
     "output_type": "stream",
     "text": [
      "True\n",
      "60\n",
      "173.205080757\n",
      "t2.equilateral=> False\n",
      "t2.isosceles=> True\n"
     ]
    }
   ],
   "source": [
    "### Class Triangle contains a Polygon object and forwards each\n",
    "### methods explicitly to the contained Polygon\n",
    "\n",
    "t1 = Triangle(20, 20, 20)\n",
    "print t1.is_equilateral()\n",
    "print t1.perimeter()\n",
    "print t1.area()\n",
    "\n",
    "t2 = Triangle(15, 15, 20)\n",
    "print 't2.equilateral=>',t2.is_equilateral()\n",
    "print 't2.isosceles=>',t2.is_isosceles()\n"
   ]
  },
  {
   "cell_type": "code",
   "execution_count": 122,
   "metadata": {
    "collapsed": true
   },
   "outputs": [],
   "source": [
    "### Rectangle class\n",
    "class Rectangle(object):\n",
    "    \"\"\" Rectangle class from Polygon using object adapter \"\"\"\n",
    "\n",
    "\n",
    "    method_mapper = {'is_square': 'is_regular'}\n",
    "    \n",
    "    def __init__(self, *sides):\n",
    "        # Compose a polygon\n",
    "        self.polygon = Polygon(*sides)\n",
    "\n",
    "    def is_valid(f):\n",
    "        def inner(self, *args):\n",
    "            \"\"\" Is the rectangle valid \"\"\"\n",
    "\n",
    "            sides = self.sides\n",
    "            # Should have 4 sides\n",
    "            if len(sides) != 4:\n",
    "                return False\n",
    "\n",
    "            # Opposite sides should be same\n",
    "            for a,b in [(0,2),(1,3)]:\n",
    "                if sides[a] != sides[b]:\n",
    "                    return False\n",
    "\n",
    "            result = f(self, *args)\n",
    "            return result\n",
    "        \n",
    "        return inner\n",
    "\n",
    "    def __getattr__(self, name):\n",
    "        \"\"\" Overloaded __getattr__ to forward methods to wrapped \n",
    "        instance \"\"\"\n",
    "\n",
    "        if name in self.method_mapper:\n",
    "            # Wrapped name\n",
    "            w_name = self.method_mapper[name]\n",
    "            print('Forwarding to method',w_name)\n",
    "            # Map the method to correct one on the instance\n",
    "            return getattr(self.polygon, w_name)\n",
    "        else:\n",
    "            # Assume method is the same\n",
    "            print 'Forwarding to polygons',name\n",
    "            return getattr(self.polygon, name)\n",
    "        \n",
    "    @is_valid\n",
    "    def area(self):\n",
    "        \"\"\" Return area of rectangle \"\"\"\n",
    "\n",
    "        # Length x breadth\n",
    "        sides = self.sides      \n",
    "        return sides[0]*sides[1]\n",
    "        "
   ]
  },
  {
   "cell_type": "code",
   "execution_count": 123,
   "metadata": {},
   "outputs": [
    {
     "name": "stdout",
     "output_type": "stream",
     "text": [
      "Forwarding to polygons sides\n",
      "Forwarding to polygons sides\n",
      "200\n",
      "Forwarding to polygons perimeter\n",
      "60\n",
      "('Forwarding to method', 'is_regular')\n",
      "False\n"
     ]
    }
   ],
   "source": [
    "r = Rectangle(20, 10, 20, 10)\n",
    "print r.area()\n",
    "print r.perimeter()\n",
    "print r.is_square()"
   ]
  },
  {
   "cell_type": "markdown",
   "metadata": {},
   "source": [
    "### Metaclasses as class factories"
   ]
  },
  {
   "cell_type": "code",
   "execution_count": 3,
   "metadata": {},
   "outputs": [
    {
     "data": {
      "text/plain": [
       "__main__.Employee"
      ]
     },
     "execution_count": 3,
     "metadata": {},
     "output_type": "execute_result"
    }
   ],
   "source": [
    "\n",
    "class Employee(object):\n",
    "    \"\"\" An Employee class \"\"\"\n",
    "    \n",
    "    count = 0\n",
    "    \n",
    "    def __init__(self, name, age, gender):\n",
    "        self.name = name\n",
    "        self.age = age\n",
    "        self.gender = gender\n",
    "        \n",
    "    def __repr__(self):\n",
    "        return \"Employee<name=%s, age=%s, gender=%s>\" % (self.name,\n",
    "                                                         self.age,\n",
    "                                                         self.gender)\n",
    "        \n",
    "    def __new__(cls, *args):\n",
    "        cls.count += 1\n",
    "        return super(Employee, cls).__new__(cls, *args)\n",
    "        \n",
    "    \n",
    "Employee"
   ]
  },
  {
   "cell_type": "code",
   "execution_count": 2,
   "metadata": {},
   "outputs": [],
   "source": [
    "# help(type)"
   ]
  },
  {
   "cell_type": "code",
   "execution_count": 4,
   "metadata": {},
   "outputs": [
    {
     "name": "stdout",
     "output_type": "stream",
     "text": [
      "<class '__main__.ContractEmployee'>\n",
      "{'__module__': '__main__', '__doc__': None, 'is_regular': <classmethod object at 0x7fd458cbd590>}\n",
      "Employee<name=Richard, age=29, gender=M>\n",
      "Regular Employee=> False\n"
     ]
    },
    {
     "name": "stderr",
     "output_type": "stream",
     "text": [
      "-c:19: DeprecationWarning: object() takes no parameters\n"
     ]
    }
   ],
   "source": [
    "def is_regular(klass):\n",
    "    return False\n",
    "\n",
    "klass = type('ContractEmployee', (Employee,), \n",
    "             {'is_regular': classmethod(is_regular)})\n",
    "print klass\n",
    "\n",
    "print klass.__dict__\n",
    "\n",
    "richard = klass('Richard', 29, 'M')\n",
    "print richard\n",
    "\n",
    "print 'Regular Employee=>',richard.is_regular()"
   ]
  },
  {
   "cell_type": "code",
   "execution_count": 8,
   "metadata": {},
   "outputs": [
    {
     "name": "stdout",
     "output_type": "stream",
     "text": [
      "<class '__main__.C'>\n",
      "24\n",
      "14\n"
     ]
    }
   ],
   "source": [
    "def add(self, a, b):\n",
    "    return a+b\n",
    "\n",
    "def sub(self, a, b):\n",
    "    return a-b\n",
    "\n",
    "class_dict = {'add': add, 'sub': sub}\n",
    "C = type('C', (object,), class_dict)\n",
    "print C\n",
    "\n",
    "c = C()\n",
    "print c.add(10, 14)\n",
    "print c.sub(21, 7)"
   ]
  },
  {
   "cell_type": "code",
   "execution_count": null,
   "metadata": {
    "collapsed": true
   },
   "outputs": [],
   "source": [
    "import my_module\n",
    "# MyKlass to be fixed\n",
    "# bug_function\n",
    "\n",
    "# Assume this is fix_module\n",
    "def fixed_function(self, *args):\n",
    "    # Fix code\n",
    "    pass\n",
    "\n",
    "my_module.MyKlass.bug_function = fixed_function\n",
    "\n",
    "# NOTE: fix_module has to be imported after my_module "
   ]
  },
  {
   "cell_type": "markdown",
   "metadata": {},
   "source": [
    "### Additional Topics"
   ]
  },
  {
   "cell_type": "code",
   "execution_count": 170,
   "metadata": {
    "collapsed": true
   },
   "outputs": [],
   "source": [
    "### Classes overriding __call__ method - functors\n",
    "class A(object):\n",
    "    \n",
    "    def __init__(self, n=10):\n",
    "        self.n = n\n",
    "        \n",
    "    def __call__(self, *args):\n",
    "        print 'Inside __call__ of A'\n",
    "        \n",
    "        for i in range(self.n):\n",
    "            yield i*i\n",
    "        "
   ]
  },
  {
   "cell_type": "code",
   "execution_count": 171,
   "metadata": {},
   "outputs": [
    {
     "name": "stdout",
     "output_type": "stream",
     "text": [
      "<generator object __call__ at 0x7f0050da30a0>\n",
      "Inside __call__ of A\n",
      "0\n",
      "1\n",
      "4\n",
      "9\n",
      "16\n",
      "25\n",
      "36\n",
      "49\n",
      "64\n",
      "81\n"
     ]
    }
   ],
   "source": [
    "a = A()\n",
    "# Calling as as if it were a function\n",
    "print a()\n",
    "\n",
    "for item in a():\n",
    "    print item"
   ]
  }
 ],
 "metadata": {
  "kernelspec": {
   "display_name": "Python 2",
   "language": "python",
   "name": "python2"
  },
  "language_info": {
   "codemirror_mode": {
    "name": "ipython",
    "version": 2
   },
   "file_extension": ".py",
   "mimetype": "text/x-python",
   "name": "python",
   "nbconvert_exporter": "python",
   "pygments_lexer": "ipython2",
   "version": "2.7.12"
  }
 },
 "nbformat": 4,
 "nbformat_minor": 2
}
