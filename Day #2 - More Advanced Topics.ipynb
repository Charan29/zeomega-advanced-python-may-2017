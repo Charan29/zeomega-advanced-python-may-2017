{
 "cells": [
  {
   "cell_type": "code",
   "execution_count": null,
   "metadata": {
    "collapsed": true
   },
   "outputs": [],
   "source": [
    "### Delayed Evaluations, Partial Functions, Weak References/Proxies, Collections"
   ]
  },
  {
   "cell_type": "code",
   "execution_count": 1,
   "metadata": {
    "collapsed": true
   },
   "outputs": [],
   "source": [
    "from functools import partial\n",
    "\n",
    "def add(x, y):\n",
    "    \"\"\" Adds two numbers \"\"\"\n",
    "    return x + y\n"
   ]
  },
  {
   "cell_type": "code",
   "execution_count": 2,
   "metadata": {},
   "outputs": [
    {
     "data": {
      "text/plain": [
       "15"
      ]
     },
     "execution_count": 2,
     "metadata": {},
     "output_type": "execute_result"
    }
   ],
   "source": [
    "add(7, 8)"
   ]
  },
  {
   "cell_type": "code",
   "execution_count": 2,
   "metadata": {},
   "outputs": [
    {
     "name": "stdout",
     "output_type": "stream",
     "text": [
      "<functools.partial object at 0x7f9154c5b838>\n"
     ]
    }
   ],
   "source": [
    "# Partial allows one to 'freeze' one or more of the arguments of\n",
    "# a function taking multiple arguments.\n",
    "add5 = partial(add, 5)\n",
    "print add5"
   ]
  },
  {
   "cell_type": "code",
   "execution_count": 3,
   "metadata": {},
   "outputs": [
    {
     "name": "stdout",
     "output_type": "stream",
     "text": [
      "15\n",
      "22\n"
     ]
    }
   ],
   "source": [
    "print add5(10)\n",
    "print add5(17)"
   ]
  },
  {
   "cell_type": "code",
   "execution_count": 4,
   "metadata": {
    "collapsed": true
   },
   "outputs": [],
   "source": [
    "### Freezing more than one argument\n",
    "import random\n",
    "\n",
    "### Calling random.randrange over a given range and using it with itertools\n",
    "from itertools import imap, repeat, islice\n",
    "\n",
    "irandom = imap(random.randrange, repeat(1), repeat(100))\n"
   ]
  },
  {
   "cell_type": "code",
   "execution_count": 5,
   "metadata": {},
   "outputs": [
    {
     "name": "stdout",
     "output_type": "stream",
     "text": [
      "57\n",
      "95\n",
      "1\n",
      "59\n",
      "93\n",
      "70\n",
      "5\n",
      "16\n",
      "12\n",
      "41\n"
     ]
    }
   ],
   "source": [
    "for item in islice(irandom, 10):\n",
    "    print item"
   ]
  },
  {
   "cell_type": "code",
   "execution_count": 11,
   "metadata": {},
   "outputs": [
    {
     "name": "stdout",
     "output_type": "stream",
     "text": [
      "<functools.partial object at 0x7f9154406050>\n",
      "11\n"
     ]
    }
   ],
   "source": [
    "### How about using a partial\n",
    "prandom = partial(random.randrange, 1)\n",
    "print prandom\n",
    "\n",
    "print prandom(100)"
   ]
  },
  {
   "cell_type": "code",
   "execution_count": 15,
   "metadata": {},
   "outputs": [
    {
     "name": "stdout",
     "output_type": "stream",
     "text": [
      "27\n",
      "81\n",
      "99\n",
      "27\n",
      "97\n",
      "44\n",
      "89\n",
      "5\n",
      "53\n",
      "72\n"
     ]
    }
   ],
   "source": [
    "irandom = imap(prandom, repeat(100))\n",
    "\n",
    "for i in islice(irandom, 10):\n",
    "    print i"
   ]
  },
  {
   "cell_type": "code",
   "execution_count": 30,
   "metadata": {},
   "outputs": [
    {
     "name": "stdout",
     "output_type": "stream",
     "text": [
      "61\n"
     ]
    }
   ],
   "source": [
    "### Another way \n",
    "prandom = partial(random.randrange, 1, 100)\n",
    "print prandom()\n"
   ]
  },
  {
   "cell_type": "code",
   "execution_count": 38,
   "metadata": {},
   "outputs": [
    {
     "name": "stdout",
     "output_type": "stream",
     "text": [
      "6\n",
      "39\n",
      "2\n",
      "96\n",
      "1\n",
      "97\n",
      "41\n",
      "96\n",
      "66\n",
      "13\n"
     ]
    }
   ],
   "source": [
    "\n",
    "# define a generator\n",
    "def myrandom():\n",
    "    while True:\n",
    "        yield prandom()\n",
    "        \n",
    "for i in islice(myrandom(), 10):\n",
    "    print i"
   ]
  },
  {
   "cell_type": "code",
   "execution_count": null,
   "metadata": {
    "collapsed": true
   },
   "outputs": [],
   "source": []
  },
  {
   "cell_type": "markdown",
   "metadata": {},
   "source": [
    "### Delayed Evaluations\n",
    "\n",
    "1. When a function evaluation is delayed till the moment its data is needed.\n",
    "2. Also called lazy evaluation.\n",
    "3. Partials are very good for this purpose."
   ]
  },
  {
   "cell_type": "code",
   "execution_count": 21,
   "metadata": {
    "collapsed": true
   },
   "outputs": [],
   "source": [
    "import string\n",
    "\n",
    "letters = list(string.ascii_lowercase*100)\n",
    "# Jumble it up\n",
    "random.shuffle(letters)\n",
    "\n",
    "def make_random_file(filename):\n",
    "    \"\"\" Create a file with some random text inside it \"\"\"\n",
    "    \n",
    "    text = ''.join(random.sample(letters, 100))\n",
    "    open(filename, 'w').write(text + '\\n')\n"
   ]
  },
  {
   "cell_type": "code",
   "execution_count": 50,
   "metadata": {
    "collapsed": true
   },
   "outputs": [],
   "source": [
    "import string\n",
    "\n",
    "letters = list(string.ascii_lowercase*100)\n",
    "# Jumble it up\n",
    "random.shuffle(letters)\n",
    "\n",
    "def make_random_file(filename):\n",
    "    \"\"\" Create a file with some random text inside it \"\"\"\n",
    "    \n",
    "    lines = []\n",
    "    for i in range(50):\n",
    "        size = random.randrange(50, 100)\n",
    "        text = ''.join(random.sample(letters, size))\n",
    "        lines.append(text + '\\n')\n",
    "    open(filename, 'w').writelines(lines)"
   ]
  },
  {
   "cell_type": "code",
   "execution_count": 51,
   "metadata": {
    "collapsed": true
   },
   "outputs": [],
   "source": [
    "make_random_file('anand.txt')"
   ]
  },
  {
   "cell_type": "code",
   "execution_count": 22,
   "metadata": {
    "collapsed": true
   },
   "outputs": [],
   "source": [
    "for i in range(1, 100):\n",
    "    fname = 'test/text' + str(i)\n",
    "    make_random_file(fname)"
   ]
  },
  {
   "cell_type": "code",
   "execution_count": 42,
   "metadata": {
    "collapsed": true
   },
   "outputs": [],
   "source": [
    "import hashlib\n",
    "\n",
    "def signature(filename):\n",
    "    return hashlib.sha1(open(filename).read()).hexdigest()"
   ]
  },
  {
   "cell_type": "code",
   "execution_count": 24,
   "metadata": {},
   "outputs": [
    {
     "name": "stdout",
     "output_type": "stream",
     "text": [
      "79ebfb325afd1c44064ef70b0aeb7b70713f9029\n"
     ]
    }
   ],
   "source": [
    "print signature('test/text1')"
   ]
  },
  {
   "cell_type": "markdown",
   "metadata": {},
   "source": [
    "### Imagine you need to create signatures for a million files\n",
    "### You want to delay this till the last second - i.e delayed evaluation."
   ]
  },
  {
   "cell_type": "code",
   "execution_count": 40,
   "metadata": {
    "collapsed": true
   },
   "outputs": [],
   "source": [
    "### Using generators\n",
    "import os\n",
    "\n",
    "def signature_generator(folder):\n",
    "    for filename in os.listdir(folder):\n",
    "        fpath = os.path.join(folder, filename)\n",
    "        if os.path.isfile(fpath):\n",
    "            # print fpath\n",
    "            yield signature(fpath)\n",
    "            "
   ]
  },
  {
   "cell_type": "code",
   "execution_count": 43,
   "metadata": {},
   "outputs": [
    {
     "name": "stdout",
     "output_type": "stream",
     "text": [
      "<generator object signature_generator at 0x7f915b66ae60>\n",
      "['ce77baa0654f81524ef4d2bb585095e866e14ef4', 'a7dc4ded0a3b30f264910bbead67b90207b55c43', '90a5b2a6dd133bd5b1233d0132c668db1b9b72bd', 'e7b31b8bc5cd23f61746a811bad0e9379441fc15', '820f2b6bc65e7202c7adf6e491bbb35a63676d00', '1fee8032d6955ee2b3293f64677c27d43fe09f2c', 'c91869a5f5f0b8297ea3075115e7b8e977ed4958', 'f0c337888983ef33376ce02443f4950d5eba2a75', '13692db0672088da69b2eaaba5934674d226f8d9', 'c79daa8b62ab1efec634fc77762c202f452ba8de']\n"
     ]
    }
   ],
   "source": [
    "gen = signature_generator('test')\n",
    "print gen\n",
    "\n",
    "# Get signatures of files in range of 30..40\n",
    "# help(islice)\n",
    "def compute(start_idx, stop_idx):\n",
    "    return list(islice(gen, start_idx, stop_idx, 1))\n",
    "    \n",
    "print compute(30, 40)\n"
   ]
  },
  {
   "cell_type": "code",
   "execution_count": 48,
   "metadata": {
    "collapsed": true
   },
   "outputs": [],
   "source": [
    "### Using partials\n",
    "\n",
    "def signature_generator_p(folder):\n",
    "    \n",
    "    items = []\n",
    "    for filename in os.listdir(folder):\n",
    "        fpath = os.path.join(folder, filename)\n",
    "        if os.path.isfile(fpath):\n",
    "            pf = partial(signature, fpath)\n",
    "            items.append(pf)\n",
    "            # \n",
    "            # yield pf\n",
    "            \n",
    "    return items"
   ]
  },
  {
   "cell_type": "code",
   "execution_count": 45,
   "metadata": {},
   "outputs": [
    {
     "name": "stdout",
     "output_type": "stream",
     "text": [
      "102\n"
     ]
    }
   ],
   "source": [
    "partials = signature_generator_p('test')\n",
    "print len(partials)"
   ]
  },
  {
   "cell_type": "code",
   "execution_count": 47,
   "metadata": {},
   "outputs": [
    {
     "data": {
      "text/plain": [
       "(1, 100)"
      ]
     },
     "execution_count": 47,
     "metadata": {},
     "output_type": "execute_result"
    }
   ],
   "source": [
    "prandom.args"
   ]
  },
  {
   "cell_type": "code",
   "execution_count": 46,
   "metadata": {},
   "outputs": [
    {
     "name": "stdout",
     "output_type": "stream",
     "text": [
      "['e91ceff438e2a46a06426e4afc02c66570c1a08d', '5788d195da3513017fd213d1d6e1d27af04bc2eb', 'a680778af61607751599a505e532eaa014f2c43d', '2528b9ab9db3e7e5fb8ef1a89b2b6e7b420d9f60', 'c0b882cbbca7463a50135fa6aafecd9858d07574', '2a939ce87559d3184b012a0cd4a476f61d56eb4c', 'f86a9f854bfad8e63178f032b7a57515e7cc1964', 'dd0ec6268384db9bef44d556bda92c35db4d5d99', '135c2b17b24e50bf5db6379ca8d2a85669e916b3', '978730f8e3678199c0a1b8d6d790e31e666079f0']\n",
      "['e91ceff438e2a46a06426e4afc02c66570c1a08d', '5788d195da3513017fd213d1d6e1d27af04bc2eb', 'a680778af61607751599a505e532eaa014f2c43d', '2528b9ab9db3e7e5fb8ef1a89b2b6e7b420d9f60', 'c0b882cbbca7463a50135fa6aafecd9858d07574', '2a939ce87559d3184b012a0cd4a476f61d56eb4c', 'f86a9f854bfad8e63178f032b7a57515e7cc1964', 'dd0ec6268384db9bef44d556bda92c35db4d5d99', '135c2b17b24e50bf5db6379ca8d2a85669e916b3', '978730f8e3678199c0a1b8d6d790e31e666079f0']\n",
      "['541dfc1fafeebc50b15ff211510f6e1f916bdb74', '11397943959b8e82fa9926043f739a1dc0cf6e06']\n"
     ]
    }
   ],
   "source": [
    "### Generating data from partials\n",
    "# Generate signatures for files in range 10..20\n",
    "print map(lambda x: x(), partials[10:20])\n",
    "\n",
    "# Want to use itertools ?\n",
    "print list(imap(lambda x: x(), partials[10:20]))\n",
    "# Same answer ?\n",
    "# itertools allows finer control\n",
    "\n",
    "# Only calculate signatures for those files whose first character is 'a'\n",
    "from itertools import ifilter\n",
    "\n",
    "print list(imap(lambda x: x(),\n",
    "     ifilter(lambda x: open(x.args[0]).read()[0] == 'a', partials)))"
   ]
  },
  {
   "cell_type": "markdown",
   "metadata": {},
   "source": [
    "### Weak References"
   ]
  },
  {
   "cell_type": "code",
   "execution_count": 80,
   "metadata": {
    "collapsed": true
   },
   "outputs": [],
   "source": [
    "### To avoid strong coupling between objects\n",
    "import weakref\n",
    "\n",
    "class C(object):\n",
    "    def __init__(self):\n",
    "        self.items = []\n",
    "    def add(self, item):\n",
    "        self.items.append(item)\n",
    "        \n",
    "class D(object): pass"
   ]
  },
  {
   "cell_type": "code",
   "execution_count": 81,
   "metadata": {
    "collapsed": true
   },
   "outputs": [],
   "source": [
    "c=C()\n",
    "d=D()"
   ]
  },
  {
   "cell_type": "code",
   "execution_count": 82,
   "metadata": {},
   "outputs": [
    {
     "name": "stdout",
     "output_type": "stream",
     "text": [
      "First=> 1\n",
      "Second=> 2\n"
     ]
    }
   ],
   "source": [
    "import gc\n",
    "# print dir(gc)\n",
    "print 'First=>',len(gc.get_referrers(d))\n",
    "\n",
    "# Add a reference\n",
    "c.d = d\n",
    "\n",
    "print 'Second=>',len(gc.get_referrers(d))"
   ]
  },
  {
   "cell_type": "code",
   "execution_count": 92,
   "metadata": {},
   "outputs": [],
   "source": [
    "# Create a list of C objects\n",
    "clist = map(lambda x: C(), range(100))\n",
    "# print len(clist)\n",
    "\n",
    "for obj in clist:\n",
    "    obj.d = d"
   ]
  },
  {
   "cell_type": "code",
   "execution_count": 85,
   "metadata": {},
   "outputs": [
    {
     "name": "stdout",
     "output_type": "stream",
     "text": [
      "102\n"
     ]
    }
   ],
   "source": [
    "print len(gc.get_referrers(d))"
   ]
  },
  {
   "cell_type": "code",
   "execution_count": 86,
   "metadata": {
    "collapsed": true
   },
   "outputs": [],
   "source": [
    "# Decreasing ref counts\n",
    "del c"
   ]
  },
  {
   "cell_type": "code",
   "execution_count": 87,
   "metadata": {},
   "outputs": [
    {
     "name": "stdout",
     "output_type": "stream",
     "text": [
      "101\n"
     ]
    }
   ],
   "source": [
    "print len(gc.get_referrers(d))"
   ]
  },
  {
   "cell_type": "code",
   "execution_count": 88,
   "metadata": {
    "collapsed": true
   },
   "outputs": [],
   "source": [
    "del clist"
   ]
  },
  {
   "cell_type": "code",
   "execution_count": 90,
   "metadata": {},
   "outputs": [
    {
     "name": "stdout",
     "output_type": "stream",
     "text": [
      "2\n"
     ]
    }
   ],
   "source": [
    "print len(gc.get_referrers(d))"
   ]
  },
  {
   "cell_type": "code",
   "execution_count": 90,
   "metadata": {},
   "outputs": [
    {
     "name": "stdout",
     "output_type": "stream",
     "text": [
      "101\n",
      "102\n"
     ]
    }
   ],
   "source": [
    "print len(gc.get_referrers(d))\n",
    "# List addition increases references\n",
    "clist[0].add(d)\n",
    "print len(gc.get_referrers(d))"
   ]
  },
  {
   "cell_type": "code",
   "execution_count": 91,
   "metadata": {},
   "outputs": [
    {
     "name": "stdout",
     "output_type": "stream",
     "text": [
      "1\n"
     ]
    }
   ],
   "source": [
    "## Weak references to the rescue!\n",
    "d2 = D()\n",
    "print len(gc.get_referrers(d2))"
   ]
  },
  {
   "cell_type": "code",
   "execution_count": 94,
   "metadata": {},
   "outputs": [
    {
     "name": "stdout",
     "output_type": "stream",
     "text": [
      "References after=> 1\n"
     ]
    }
   ],
   "source": [
    "# Add a weak reference this time\n",
    "for obj in clist:\n",
    "    obj.d2 = weakref.ref(d2)\n",
    "\n",
    "# Still at 1 only!\n",
    "print 'References after=>',len(gc.get_referrers(d2))"
   ]
  },
  {
   "cell_type": "code",
   "execution_count": 95,
   "metadata": {},
   "outputs": [
    {
     "name": "stdout",
     "output_type": "stream",
     "text": [
      "<weakref at 0x7fe24f4e69f0; to 'D' at 0x7fe26e148b10>\n"
     ]
    }
   ],
   "source": [
    "# using weak references\n",
    "dref = weakref.ref(d)\n",
    "print dref"
   ]
  },
  {
   "cell_type": "code",
   "execution_count": 96,
   "metadata": {},
   "outputs": [
    {
     "name": "stdout",
     "output_type": "stream",
     "text": [
      "<__main__.D object at 0x7fe26e148b10>\n",
      "True\n"
     ]
    }
   ],
   "source": [
    "# Dereference to object\n",
    "dobj = dref()\n",
    "print dobj\n",
    "print dobj == d"
   ]
  },
  {
   "cell_type": "code",
   "execution_count": 97,
   "metadata": {},
   "outputs": [
    {
     "name": "stdout",
     "output_type": "stream",
     "text": [
      "<__main__.C object at 0x7fe24f525710>\n",
      "<__main__.C object at 0x7fe24f525710>\n"
     ]
    }
   ],
   "source": [
    "### Proxies\n",
    "cobj = clist[0]\n",
    "print cobj\n",
    "cproxy = weakref.proxy(cobj)\n",
    "# A proxy behaves in all ways similar to the object it proxies to\n",
    "print cproxy"
   ]
  },
  {
   "cell_type": "code",
   "execution_count": 98,
   "metadata": {},
   "outputs": [
    {
     "name": "stdout",
     "output_type": "stream",
     "text": [
      "['test']\n",
      "['test']\n"
     ]
    }
   ],
   "source": [
    "cproxy.add('test')\n",
    "print cproxy.items\n",
    "print cobj.items"
   ]
  },
  {
   "cell_type": "code",
   "execution_count": 99,
   "metadata": {},
   "outputs": [
    {
     "name": "stdout",
     "output_type": "stream",
     "text": [
      "2\n",
      "1\n"
     ]
    }
   ],
   "source": [
    "print len(gc.get_referrers(cobj))\n",
    "print len(gc.get_referrers(cproxy))"
   ]
  },
  {
   "cell_type": "code",
   "execution_count": 100,
   "metadata": {},
   "outputs": [
    {
     "name": "stdout",
     "output_type": "stream",
     "text": [
      "3\n"
     ]
    }
   ],
   "source": [
    "# Increase reference to cobj\n",
    "clist[1].coj = cobj\n",
    "print len(gc.get_referrers(cobj))"
   ]
  },
  {
   "cell_type": "code",
   "execution_count": 101,
   "metadata": {},
   "outputs": [
    {
     "name": "stdout",
     "output_type": "stream",
     "text": [
      "1\n"
     ]
    }
   ],
   "source": [
    "# References to proxy remains the same!\n",
    "print len(gc.get_referrers(cproxy))"
   ]
  },
  {
   "cell_type": "code",
   "execution_count": 102,
   "metadata": {},
   "outputs": [
    {
     "name": "stdout",
     "output_type": "stream",
     "text": [
      "2\n"
     ]
    }
   ],
   "source": [
    "# Add reference to proxy\n",
    "clist[2].cproxy = cproxy\n",
    "# Now it increases\n",
    "print len(gc.get_referrers(cproxy))"
   ]
  },
  {
   "cell_type": "code",
   "execution_count": 103,
   "metadata": {},
   "outputs": [
    {
     "data": {
      "text/plain": [
       "dict_proxy({'__dict__': <attribute '__dict__' of 'C' objects>,\n",
       "            '__doc__': None,\n",
       "            '__init__': <function __main__.__init__>,\n",
       "            '__module__': '__main__',\n",
       "            '__weakref__': <attribute '__weakref__' of 'C' objects>,\n",
       "            'add': <function __main__.add>})"
      ]
     },
     "execution_count": 103,
     "metadata": {},
     "output_type": "execute_result"
    }
   ],
   "source": [
    "C.__dict__"
   ]
  },
  {
   "cell_type": "markdown",
   "metadata": {},
   "source": [
    "## Collections Module"
   ]
  },
  {
   "cell_type": "code",
   "execution_count": 102,
   "metadata": {},
   "outputs": [
    {
     "data": {
      "text/plain": [
       "['Callable',\n",
       " 'Container',\n",
       " 'Counter',\n",
       " 'Hashable',\n",
       " 'ItemsView',\n",
       " 'Iterable',\n",
       " 'Iterator',\n",
       " 'KeysView',\n",
       " 'Mapping',\n",
       " 'MappingView',\n",
       " 'MutableMapping',\n",
       " 'MutableSequence',\n",
       " 'MutableSet',\n",
       " 'OrderedDict',\n",
       " 'Sequence',\n",
       " 'Set',\n",
       " 'Sized',\n",
       " 'ValuesView',\n",
       " '__all__',\n",
       " '__builtins__',\n",
       " '__doc__',\n",
       " '__file__',\n",
       " '__name__',\n",
       " '__package__',\n",
       " '_abcoll',\n",
       " '_chain',\n",
       " '_class_template',\n",
       " '_eq',\n",
       " '_field_template',\n",
       " '_get_ident',\n",
       " '_heapq',\n",
       " '_imap',\n",
       " '_iskeyword',\n",
       " '_itemgetter',\n",
       " '_repeat',\n",
       " '_repr_template',\n",
       " '_starmap',\n",
       " '_sys',\n",
       " 'defaultdict',\n",
       " 'deque',\n",
       " 'namedtuple']"
      ]
     },
     "execution_count": 102,
     "metadata": {},
     "output_type": "execute_result"
    }
   ],
   "source": [
    "import collections\n",
    "\n",
    "dir(collections)"
   ]
  },
  {
   "cell_type": "markdown",
   "metadata": {},
   "source": [
    "### defaultdict"
   ]
  },
  {
   "cell_type": "code",
   "execution_count": 2,
   "metadata": {},
   "outputs": [
    {
     "data": {
      "text/plain": [
       "str"
      ]
     },
     "execution_count": 2,
     "metadata": {},
     "output_type": "execute_result"
    }
   ],
   "source": [
    "type('x')"
   ]
  },
  {
   "cell_type": "code",
   "execution_count": 5,
   "metadata": {},
   "outputs": [
    {
     "name": "stdout",
     "output_type": "stream",
     "text": [
      "{'a': 2, 'c': 2, 'b': 2, 'e': 1, 'd': 1}\n",
      "defaultdict(<type 'int'>, {'a': 2, 'c': 2, 'b': 2, 'e': 1, 'd': 1, 'x': 'y'})\n"
     ]
    }
   ],
   "source": [
    "l = ['a', 'b', 'a', 'b', 'c', 'd', 'c', 'e']\n",
    "d = {}\n",
    "\n",
    "for i in l:\n",
    "    if i not in d:\n",
    "        d[i] = 0\n",
    "    d[i] += 1\n",
    "    \n",
    "print d\n",
    "\n",
    "\n",
    "from collections import defaultdict\n",
    "\n",
    "dd = defaultdict(int)\n",
    "\n",
    "for i in l:\n",
    "    dd[i] += 1\n",
    "\n",
    "dd['x'] = 'y'\n",
    "print dd"
   ]
  },
  {
   "cell_type": "code",
   "execution_count": 7,
   "metadata": {},
   "outputs": [
    {
     "name": "stdout",
     "output_type": "stream",
     "text": [
      "defaultdict(<type 'list'>, {9: ['Bangalore'], 11: ['Mississippi'], 12: ['Beunos Aires', 'Philadelphia'], 5: ['Delhi', 'Seoul'], 7: ['Colombo', 'Bahrain', 'Chennai']})\n"
     ]
    }
   ],
   "source": [
    "dl = defaultdict(list)\n",
    "cities = ['Colombo','Delhi','Bahrain','Seoul', 'Bangalore',\n",
    "          'Chennai','Beunos Aires', 'Philadelphia', 'Mississippi']\n",
    "\n",
    "for c in cities:\n",
    "    dl[len(c)].append(c)\n",
    "    \n",
    "print dl\n"
   ]
  },
  {
   "cell_type": "code",
   "execution_count": 10,
   "metadata": {},
   "outputs": [
    {
     "name": "stdout",
     "output_type": "stream",
     "text": [
      "defaultdict(<type 'int'>, {'A': 5, 'a': 4, 'b': 1, 'd': 1, 'i': 2, 'h': 2, 'j': 2, 'm': 1, 'n': 4, 'p': 2, 'u': 1, 't': 2})\n"
     ]
    }
   ],
   "source": [
    "### defaultdict\n",
    "import itertools\n",
    "import collections\n",
    "\n",
    "# Provide default values for dictionaries by using type factories\n",
    "freq = collections.defaultdict(int)\n",
    "\n",
    "names = ['Anand', 'Appu', 'Amitabh', 'Ajith', 'Anjana']\n",
    "# Frequency of letters\n",
    "\n",
    "for c in itertools.chain(*names):\n",
    "    freq[c] += 1\n",
    "\n",
    "print freq"
   ]
  },
  {
   "cell_type": "code",
   "execution_count": null,
   "metadata": {
    "collapsed": true
   },
   "outputs": [],
   "source": []
  },
  {
   "cell_type": "code",
   "execution_count": 11,
   "metadata": {},
   "outputs": [
    {
     "name": "stdout",
     "output_type": "stream",
     "text": [
      "defaultdict(<type 'list'>, {'A': ['Anand', 'Abhinav'], 'B': ['Bipin', 'Boris'], 'D': ['Dilip'], 'G': ['Gopal', 'Girish'], 'F': ['Fathima'], 'I': ['Ira', 'Indira'], 'S': ['Sony', 'Seema', 'Sateesh', 'Suraj'], 'R': ['Raj', 'Rajiv', 'Rohan'], 'T': ['Tara', 'Tina'], 'V': ['Vignesh']})\n"
     ]
    }
   ],
   "source": [
    "### With lists\n",
    "# Grouping with first character\n",
    "names = ['Bipin', 'Vignesh', 'Dilip', 'Sony', 'Tara',\n",
    "         'Seema', 'Raj', 'Rajiv', 'Gopal', 'Fathima',\n",
    "         'Ira', 'Indira', 'Boris', 'Girish', 'Rohan',\n",
    "         'Sateesh', 'Suraj', 'Tina', 'Anand', 'Abhinav']\n",
    "\n",
    "groups = collections.defaultdict(list)\n",
    "for name in names:\n",
    "    groups[name[0]].append(name)\n",
    "\n",
    "print groups"
   ]
  },
  {
   "cell_type": "markdown",
   "metadata": {},
   "source": [
    "### OrderedDict"
   ]
  },
  {
   "cell_type": "markdown",
   "metadata": {},
   "source": [
    "1. Preserves order of entries in the dictionary.\n",
    "2. Works like combination of dict and list."
   ]
  },
  {
   "cell_type": "code",
   "execution_count": 106,
   "metadata": {},
   "outputs": [
    {
     "name": "stdout",
     "output_type": "stream",
     "text": [
      "{'Seoul': None, 'Newyork': None, 'Jakarta': None, 'Delhi': None, 'Bonn': None, 'Kolkata': None, 'Bangalore': None}\n",
      "OrderedDict([('Jakarta', None), ('Delhi', None), ('Newyork', None), ('Bonn', None), ('Kolkata', None), ('Bangalore', None), ('Seoul', None)])\n"
     ]
    }
   ],
   "source": [
    "from collections import OrderedDict\n",
    "\n",
    "cities = ['Jakarta','Delhi','Newyork','Bonn','Kolkata',\n",
    "          'Bangalore','Seoul']\n",
    "# Dictionary\n",
    "cities_dict = dict.fromkeys(cities)\n",
    "# Order changes\n",
    "print(cities_dict)\n",
    "\n",
    "\n",
    "# Ordered dictionary\n",
    "ocities_dict = OrderedDict.fromkeys(cities)\n",
    "# Order is preserved\n",
    "print(ocities_dict)"
   ]
  },
  {
   "cell_type": "code",
   "execution_count": 13,
   "metadata": {},
   "outputs": [
    {
     "name": "stdout",
     "output_type": "stream",
     "text": [
      "['Jakarta', 'Delhi', 'Newyork', 'Bonn', 'Kolkata', 'Bangalore', 'Seoul', 'Mumbai']\n"
     ]
    }
   ],
   "source": [
    "### Uses - drop duplicates while preserving order\n",
    "cities = ['Jakarta','Delhi','Newyork','Bonn','Kolkata','Bangalore',\n",
    "          'Bonn','Seoul','Delhi','Jakarta','Mumbai']\n",
    "print collections.OrderedDict.fromkeys(cities).keys()\n",
    "\n",
    "# print(cities_odict.keys())\n",
    "# print(cities_odict.popitem())"
   ]
  },
  {
   "cell_type": "code",
   "execution_count": 22,
   "metadata": {},
   "outputs": [],
   "source": [
    "## As a LRU - Least Recently Used cache\n",
    "from collections import OrderedDict\n",
    "\n",
    "class LRU(OrderedDict):\n",
    "    \"\"\" Least recently used cache (LRU) dictionary\n",
    "    using OrderedDict\n",
    "    \n",
    "    \"\"\"\n",
    "    \n",
    "    def __init__(self, size=10):\n",
    "        self.size = size\n",
    "        # OrderedDict.__init__(self)\n",
    "        super(LRU, self).__init__()\n",
    "\n",
    "    def add(self, key):\n",
    "        # If key is there delete and reinsert so\n",
    "        # it moves to end.\n",
    "        if key in self:\n",
    "            del self[key]\n",
    "\n",
    "        self[key] = 1\n",
    "        if len(self)>self.size:\n",
    "            # Pop from left\n",
    "            self.popitem(last=False)"
   ]
  },
  {
   "cell_type": "code",
   "execution_count": 23,
   "metadata": {},
   "outputs": [
    {
     "name": "stdout",
     "output_type": "stream",
     "text": [
      "LRU([('a', 1), ('b', 1), ('c', 1), ('d', 1), ('e', 1)])\n"
     ]
    }
   ],
   "source": [
    "d = LRU(size=5)\n",
    "d.add('a')\n",
    "d.add('b')\n",
    "d.add('c')\n",
    "d.add('d')\n",
    "d.add('e')\n",
    "print d"
   ]
  },
  {
   "cell_type": "code",
   "execution_count": 117,
   "metadata": {},
   "outputs": [
    {
     "name": "stdout",
     "output_type": "stream",
     "text": [
      "LRU([('b', 1), ('c', 1), ('d', 1), ('e', 1), ('a', 1)])\n"
     ]
    }
   ],
   "source": [
    "d.add('a')\n",
    "print d"
   ]
  },
  {
   "cell_type": "code",
   "execution_count": 118,
   "metadata": {},
   "outputs": [
    {
     "name": "stdout",
     "output_type": "stream",
     "text": [
      "LRU([('c', 1), ('d', 1), ('e', 1), ('a', 1), ('b', 1)])\n"
     ]
    }
   ],
   "source": [
    "d.add('b')\n",
    "print d"
   ]
  },
  {
   "cell_type": "code",
   "execution_count": 119,
   "metadata": {},
   "outputs": [
    {
     "name": "stdout",
     "output_type": "stream",
     "text": [
      "LRU([('d', 1), ('e', 1), ('a', 1), ('b', 1), ('f', 1)])\n"
     ]
    }
   ],
   "source": [
    "# Add something else\n",
    "d.add('f')\n",
    "print d"
   ]
  },
  {
   "cell_type": "markdown",
   "metadata": {},
   "source": [
    "### Counter"
   ]
  },
  {
   "cell_type": "code",
   "execution_count": 27,
   "metadata": {},
   "outputs": [
    {
     "name": "stdout",
     "output_type": "stream",
     "text": [
      "Counter({'A': 5, 'a': 4, 'n': 4, 'i': 2, 'h': 2, 'j': 2, 'p': 2, 't': 2, 'b': 1, 'd': 1, 'm': 1, 'u': 1})\n",
      "{'A': 5, 'a': 4, 'b': 1, 'd': 1, 'i': 2, 'h': 2, 'j': 2, 'm': 1, 'n': 4, 'p': 2, 'u': 1, 't': 2}\n",
      "[('A', 5), ('a', 4), ('n', 4), ('i', 2), ('h', 2)]\n"
     ]
    }
   ],
   "source": [
    "from collections import Counter\n",
    "\n",
    "# Frequencies of items\n",
    "names = ['Anand', 'Appu', 'Amitabh', 'Ajith', 'Anjana']\n",
    "# Frequency of letters\n",
    "\n",
    "freq = Counter(itertools.chain(*names))\n",
    "print freq\n",
    "print dict(freq)\n",
    "\n",
    "print freq.most_common(5)"
   ]
  },
  {
   "cell_type": "code",
   "execution_count": 41,
   "metadata": {},
   "outputs": [
    {
     "name": "stdout",
     "output_type": "stream",
     "text": [
      "[(u'the', 3221), (u'of', 1690), (u'and', 1560), (u'to', 1450), (u'a', 1280)]\n",
      "[(u'e', 31614), (u't', 23385), (u'o', 20483), (u'a', 20288), (u'n', 17187)]\n"
     ]
    }
   ],
   "source": [
    "import requests\n",
    "\n",
    "text=requests.get('https://www.gutenberg.org/files/2852/2852-0.txt').text\n",
    "freq = Counter(text.split())\n",
    "\n",
    "# Frequency of words\n",
    "print freq.most_common(5)\n",
    "\n",
    "# Frequency of letters\n",
    "\n",
    "freq_c = Counter(filter(None, map(lambda x: x.strip(), text)))\n",
    "print freq_c.most_common(5)"
   ]
  },
  {
   "cell_type": "markdown",
   "metadata": {},
   "source": [
    "### namedtuple"
   ]
  },
  {
   "cell_type": "code",
   "execution_count": 42,
   "metadata": {},
   "outputs": [
    {
     "name": "stdout",
     "output_type": "stream",
     "text": [
      "<class '__main__.Employee'>\n"
     ]
    }
   ],
   "source": [
    "from collections import namedtuple\n",
    "\n",
    "employee = namedtuple(\"Employee\", \"name age gender\")\n",
    "print employee"
   ]
  },
  {
   "cell_type": "code",
   "execution_count": 45,
   "metadata": {},
   "outputs": [
    {
     "data": {
      "text/plain": [
       "(tuple,)"
      ]
     },
     "execution_count": 45,
     "metadata": {},
     "output_type": "execute_result"
    }
   ],
   "source": [
    "employee.__bases__"
   ]
  },
  {
   "cell_type": "code",
   "execution_count": 48,
   "metadata": {},
   "outputs": [
    {
     "data": {
      "text/plain": [
       "'/usr/lib/python2.7/collections.pyc'"
      ]
     },
     "execution_count": 48,
     "metadata": {},
     "output_type": "execute_result"
    }
   ],
   "source": [
    "collections.__file__"
   ]
  },
  {
   "cell_type": "code",
   "execution_count": 68,
   "metadata": {},
   "outputs": [],
   "source": [
    "from varargs import multiply\n",
    "\n",
    "multiply.func_code\n",
    "\n",
    "import os\n",
    "\n",
    "# os.__file__\n",
    "# import math\n",
    "# math.__file__"
   ]
  },
  {
   "cell_type": "code",
   "execution_count": 69,
   "metadata": {},
   "outputs": [
    {
     "name": "stdout",
     "output_type": "stream",
     "text": [
      "Employee(name='Jessica', age=31, gender='F')\n",
      "Employee(name='Arjun', age=25, gender='M')\n"
     ]
    }
   ],
   "source": [
    "jessica = employee(name='Jessica', age=31, gender='F')\n",
    "print jessica\n",
    "arjun = employee(name='Arjun', age=25, gender='M')\n",
    "print arjun"
   ]
  },
  {
   "cell_type": "code",
   "execution_count": 70,
   "metadata": {},
   "outputs": [
    {
     "name": "stdout",
     "output_type": "stream",
     "text": [
      "Arjun\n",
      "25\n",
      "M\n"
     ]
    }
   ],
   "source": [
    "# A namedtuple is an iterator!\n",
    "for field in arjun:\n",
    "    print field"
   ]
  },
  {
   "cell_type": "code",
   "execution_count": 138,
   "metadata": {},
   "outputs": [
    {
     "data": {
      "text/plain": [
       "('name', 'age', 'gender')"
      ]
     },
     "execution_count": 138,
     "metadata": {},
     "output_type": "execute_result"
    }
   ],
   "source": [
    "arjun._fields"
   ]
  },
  {
   "cell_type": "code",
   "execution_count": 74,
   "metadata": {},
   "outputs": [
    {
     "name": "stdout",
     "output_type": "stream",
     "text": [
      "1\n",
      "2\n"
     ]
    }
   ],
   "source": [
    "# Even supports 'count' method like lists!\n",
    "print arjun.count('Arjun')\n",
    "print arjun.index('M')"
   ]
  },
  {
   "cell_type": "code",
   "execution_count": 75,
   "metadata": {},
   "outputs": [
    {
     "ename": "AttributeError",
     "evalue": "'Employee' object has no attribute 'salary'",
     "output_type": "error",
     "traceback": [
      "\u001b[0;31m---------------------------------------------------------------------------\u001b[0m",
      "\u001b[0;31mAttributeError\u001b[0m                            Traceback (most recent call last)",
      "\u001b[0;32m<ipython-input-75-23c2d6d0deda>\u001b[0m in \u001b[0;36m<module>\u001b[0;34m()\u001b[0m\n\u001b[0;32m----> 1\u001b[0;31m \u001b[0marjun\u001b[0m\u001b[0;34m.\u001b[0m\u001b[0msalary\u001b[0m \u001b[0;34m=\u001b[0m \u001b[0;36m400000\u001b[0m\u001b[0;34m\u001b[0m\u001b[0m\n\u001b[0m",
      "\u001b[0;31mAttributeError\u001b[0m: 'Employee' object has no attribute 'salary'"
     ]
    }
   ],
   "source": [
    "arjun.salary = 400000"
   ]
  },
  {
   "cell_type": "code",
   "execution_count": null,
   "metadata": {
    "collapsed": true
   },
   "outputs": [],
   "source": []
  },
  {
   "cell_type": "code",
   "execution_count": 78,
   "metadata": {},
   "outputs": [
    {
     "name": "stdout",
     "output_type": "stream",
     "text": [
      "[Employee(name='Anand', age=41, gender='M'), Employee(name='Bibhas', age=32, gender='M'), Employee(name='Preethi', age=25, gender='F'), Employee(name='Gunjan', age=21, gender='F')]\n"
     ]
    }
   ],
   "source": [
    "# _make is a factory on namedtuple \n",
    "employees = (('Anand', 41, 'M'), \n",
    "             ('Bibhas', 32, 'M'),\n",
    "             ('Preethi', 25, 'F'),\n",
    "             ('Gunjan', 21, 'F'))\n",
    "\n",
    "print map(employee._make, employees)"
   ]
  },
  {
   "cell_type": "code",
   "execution_count": 77,
   "metadata": {
    "collapsed": true
   },
   "outputs": [],
   "source": [
    "# One can even sub-class a namedtuple\n",
    "class MyEmployee(employee):\n",
    "    def get_gender(self):\n",
    "        return self.gender"
   ]
  },
  {
   "cell_type": "code",
   "execution_count": 79,
   "metadata": {},
   "outputs": [
    {
     "name": "stdout",
     "output_type": "stream",
     "text": [
      "Employee(name='Anand', age=41, gender='M')\n",
      "M\n"
     ]
    }
   ],
   "source": [
    "emps = map(MyEmployee._make, employees)\n",
    "print emps[0]\n",
    "print emps[0].get_gender()"
   ]
  },
  {
   "cell_type": "code",
   "execution_count": 28,
   "metadata": {
    "collapsed": true
   },
   "outputs": [],
   "source": [
    "def flatten(iterables):\n",
    "    \"\"\" Return a generating flattening an iterator. In\n",
    "    other words, if the iterator contains other iterables,\n",
    "    yield items from them till no more iterables are found\n",
    "    >>> list(flatten(range(5)))\n",
    "    [0, 1, 2, 3, 4]\n",
    "    >>> list(flatten(['python']))\n",
    "    ['python']\n",
    "    >>> list(flatten('python'))\n",
    "    ['p', 'y', 't', 'h', 'o', 'n']\n",
    "    >>> list(flatten([1,[2,[3,[4,[5]]]]]))\n",
    "    [1, 2, 3, 4, 5]\n",
    "    >>> list(flatten([1,[2,3],[4,5]]))\n",
    "    [1, 2, 3, 4, 5]\n",
    "    >>> list(flatten(dict(enumerate(range(5)))))\n",
    "    [0, 1, 2, 3, 4]\n",
    "    >>> list(flatten([1,2,'python',{3:4, 4:5}, ['perl']]))\n",
    "    [1, 2, 'python', 3, 4, 'perl']\n",
    "    >>> \n",
    "    \"\"\"\n",
    "    \n",
    "    for i in itertools.chain(iterables):\n",
    "        if hasattr(i, '__iter__'):\n",
    "            for j in flatten(i): yield j\n",
    "        else:\n",
    "            yield i"
   ]
  },
  {
   "cell_type": "code",
   "execution_count": 30,
   "metadata": {
    "collapsed": true
   },
   "outputs": [],
   "source": [
    "l = [1, 2, [3,4], [5,6, [7,8]]]"
   ]
  },
  {
   "cell_type": "code",
   "execution_count": 31,
   "metadata": {},
   "outputs": [
    {
     "data": {
      "text/plain": [
       "[1, 2, 3, 4, 5, 6, 7, 8]"
      ]
     },
     "execution_count": 31,
     "metadata": {},
     "output_type": "execute_result"
    }
   ],
   "source": [
    "list(flatten(l))"
   ]
  },
  {
   "cell_type": "code",
   "execution_count": 34,
   "metadata": {},
   "outputs": [
    {
     "data": {
      "text/plain": [
       "[1, 2, 'python', 3, 4, 'perl']"
      ]
     },
     "execution_count": 34,
     "metadata": {},
     "output_type": "execute_result"
    }
   ],
   "source": [
    "list(flatten([1,2,'python',{3:4, 4:5}, [[['perl']]]]))"
   ]
  },
  {
   "cell_type": "code",
   "execution_count": 40,
   "metadata": {},
   "outputs": [
    {
     "data": {
      "text/plain": [
       "[1, 2, [4, 5], [8, 9]]"
      ]
     },
     "execution_count": 40,
     "metadata": {},
     "output_type": "execute_result"
    }
   ],
   "source": [
    "l = [1, 2, [4,5], [8,9]]\n",
    "[] + l"
   ]
  },
  {
   "cell_type": "code",
   "execution_count": 106,
   "metadata": {},
   "outputs": [
    {
     "data": {
      "text/plain": [
       "[8, 1]"
      ]
     },
     "execution_count": 106,
     "metadata": {},
     "output_type": "execute_result"
    }
   ],
   "source": [
    "nested = {1: {5: {9: [1,2,3]}, 10: []}, 8: {2:3}}\n"
   ]
  },
  {
   "cell_type": "code",
   "execution_count": null,
   "metadata": {
    "collapsed": true
   },
   "outputs": [],
   "source": []
  }
 ],
 "metadata": {
  "kernelspec": {
   "display_name": "Python 2",
   "language": "python",
   "name": "python2"
  },
  "language_info": {
   "codemirror_mode": {
    "name": "ipython",
    "version": 2
   },
   "file_extension": ".py",
   "mimetype": "text/x-python",
   "name": "python",
   "nbconvert_exporter": "python",
   "pygments_lexer": "ipython2",
   "version": "2.7.12"
  }
 },
 "nbformat": 4,
 "nbformat_minor": 2
}
